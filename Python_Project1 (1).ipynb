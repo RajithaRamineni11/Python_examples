{
  "nbformat": 4,
  "nbformat_minor": 0,
  "metadata": {
    "colab": {
      "provenance": [],
      "collapsed_sections": [],
      "toc_visible": true
    },
    "kernelspec": {
      "name": "python3",
      "display_name": "Python 3"
    },
    "language_info": {
      "name": "python"
    }
  },
  "cells": [
    {
      "cell_type": "markdown",
      "source": [
        "**Q1: You are working in a bank and you have been given two lists of the employees who worked in 2021. Employee’s name in list 1 are Ramesh, Suresh, Mahesh, Ali, Jacob and Saritha. List 2 contains the names of Ali, Mukesh, Mahesh, Jacob, Sai, Sarita. Please write a program which helps to identify people who are common in both lists. Please do not use any in-built function. **"
      ],
      "metadata": {
        "id": "boBfsG4ovn45"
      }
    },
    {
      "cell_type": "code",
      "execution_count": null,
      "metadata": {
        "colab": {
          "base_uri": "https://localhost:8080/"
        },
        "id": "y6NRN_wrvKZm",
        "outputId": "b7b56129-029c-4c61-d9ae-113001f2c0f3"
      },
      "outputs": [
        {
          "output_type": "stream",
          "name": "stdout",
          "text": [
            "common names in two lists :  ['Mahesh', 'Ali', 'Jacob'] \n",
            "distinct names in two lists :  ['Ramesh', 'Suresh', 'Saritha', 'Mukesh', 'Sai', 'Sarita']\n"
          ]
        }
      ],
      "source": [
        "emp_name1=['Ramesh','Suresh','Mahesh','Ali','Jacob','Saritha']\n",
        "emp_name2=['Ali','Mukesh','Mahesh','Jacob','Sai','Sarita']\n",
        "common_names,distinct_names=[],[]\n",
        "for i in emp_name1:\n",
        "  for j in emp_name2:\n",
        "    if i==j:\n",
        "      common_names.append(i)\n",
        "for i in emp_name1:\n",
        "  if i not in emp_name2:\n",
        "      distinct_names.append(i) \n",
        "for j in emp_name2:\n",
        "  if j not in emp_name1:\n",
        "    distinct_names.append(j) \n",
        "\n",
        "print('common names in two lists : ',common_names,'\\ndistinct names in two lists : ',distinct_names)\n"
      ]
    },
    {
      "cell_type": "markdown",
      "source": [
        "**Q2: While entering data, someone entered a few names as a common string “Ramesh Suresh Mohit”. Please write a program which separates all the names and convert them into a list. Once converted in a list, please write a program which adds their age.\n",
        "Ramesh :  25\n",
        "Suresh : 22\n",
        "Mohit : 26** "
      ],
      "metadata": {
        "id": "lOUfB6Eh0VEr"
      }
    },
    {
      "cell_type": "code",
      "source": [
        "string=\"Ramesh Suresh Mohit\"\n",
        "l=string.split(' ')\n",
        "print(type(l))\n",
        "nl=[]\n",
        "print(l)\n",
        "for i in l:\n",
        "  a=int(input('enter age:'))\n",
        "  nl.append([i,a])\n",
        "print(nl)"
      ],
      "metadata": {
        "colab": {
          "base_uri": "https://localhost:8080/"
        },
        "id": "8GXkOOaC0em6",
        "outputId": "e8024377-ac28-45bc-cef0-cbd7eb75f27c"
      },
      "execution_count": 1,
      "outputs": [
        {
          "output_type": "stream",
          "name": "stdout",
          "text": [
            "<class 'list'>\n",
            "['Ramesh', 'Suresh', 'Mohit']\n",
            "enter age:25\n",
            "enter age:22\n",
            "enter age:26\n",
            "[['Ramesh', 25], ['Suresh', 22], ['Mohit', 26]]\n"
          ]
        }
      ]
    },
    {
      "cell_type": "markdown",
      "source": [
        "** Q3: A few students from a university have taken three exams\n",
        "\n",
        "Name = Sam, Jacy, Tom, Steve\n",
        "\n",
        "Python = 25, 26, 29, 28\n",
        "\n",
        "Statistics = 23, 21, 19, 25\n",
        "\n",
        "SQL = 29, 27, 28, 25 \n",
        "\n",
        "Please write a program which calculates mean values (no in-built function for mean) of all three tests and print the highest mean value. Addition and other functions are allowed. Please also report who scored the highest mark in python using programming construct.  **"
      ],
      "metadata": {
        "id": "OeRFLOEJ2uUC"
      }
    },
    {
      "cell_type": "code",
      "source": [
        "Name = ['Sam','Jacy','Tom','Steve']\n",
        "Python = [25, 26, 29, 28]\n",
        "Statistics = [23, 21, 19, 25]\n",
        "SQL = [29, 27, 28, 25] \n",
        "avg_marks,max,max_python=[],0,0\n",
        "j=0\n",
        "p=0\n",
        "for i in Name:\n",
        "  avg=(Python[j]+Statistics[j]+SQL[j])/3\n",
        "  avg_marks.append([i,round(avg,2)])\n",
        "  j+=1\n",
        "  if max<avg:\n",
        "    max=avg\n",
        "print('avg marks fr each student : ',avg_marks)\n",
        "print('highest mean value:',max)\n",
        "for i in Python:\n",
        "  if max_python<i:\n",
        "    max_python=i\n",
        "    p+=1\n",
        "print('Name who scored max in python :',Name[p-1],'\\nmax marks of Python ',max_python)"
      ],
      "metadata": {
        "colab": {
          "base_uri": "https://localhost:8080/"
        },
        "id": "Eu_Bc1nv25lB",
        "outputId": "76f693c9-6c67-4033-afdd-62808a88a2c0"
      },
      "execution_count": 2,
      "outputs": [
        {
          "output_type": "stream",
          "name": "stdout",
          "text": [
            "avg marks fr each student :  [['Sam', 25.67], ['Jacy', 24.67], ['Tom', 25.33], ['Steve', 26.0]]\n",
            "highest mean value: 26.0\n",
            "Name who scored max in python : Tom \n",
            "max marks of Python  29\n"
          ]
        }
      ]
    },
    {
      "cell_type": "markdown",
      "source": [
        "**Q4: You are working in a medical store. A patient came to your medical store and asked to buy 2 strips of paracetamol, 3 strips of azithromycin and 5 strips of Vitamin C. One strip of paracetamol costs Rs 35, one strip of azithromycin costs Rs 49 and one strip of vitamin c costs Rs. 33. Patient gave you Rs 2000. Please tell us what is the total cost of each medicine, total cost of all medicine and how much money you refunded to the patient?  \n",
        "**"
      ],
      "metadata": {
        "id": "JqvG6DsE8E8s"
      }
    },
    {
      "cell_type": "code",
      "source": [
        "paracetamol_cost=35\n",
        "azithromycin_cost=49\n",
        "vitamin_c_cost=33\n",
        "ps=int(input())\n",
        "ams=int(input())\n",
        "vcs=int(input())\n",
        "total=ps*paracetamol_cost+ams*azithromycin_cost+vcs*vitamin_c_cost\n",
        "totalpay=int(input())\n",
        "rem_balance=totalpay-total\n",
        "print('total cost of each medicine:\\nparacetamol_cost :',ps*paracetamol_cost,'\\nazithromycin_cost : ',ams*azithromycin_cost,'\\nvitamin_c_cost',vitamin_c_cost*vcs)\n",
        "print('total amount patient gave: ',totalpay,'\\ntotal bill : ',total,'\\nrefund:',rem_balance)"
      ],
      "metadata": {
        "colab": {
          "base_uri": "https://localhost:8080/"
        },
        "id": "2PU9iFBO8WPt",
        "outputId": "f11148d4-a148-4103-9a78-1009e64bd193"
      },
      "execution_count": null,
      "outputs": [
        {
          "output_type": "stream",
          "name": "stdout",
          "text": [
            "2\n",
            "3\n",
            "5\n",
            "2000\n",
            "total cost of each medicine:\n",
            "paracetamol_cost : 70 \n",
            "azithromycin_cost :  147 \n",
            "vitamin_c_cost 165\n",
            "total amount patient gave:  2000 \n",
            "total bill :  382 \n",
            "refund: 1618\n"
          ]
        }
      ]
    },
    {
      "cell_type": "markdown",
      "source": [
        "**Q5: Accept a sentence as input and find the number of vowels in it. Assume that the sentence has no punctuation marks. For example: I am learning python contains 6 vowels. This function should be applicable for all other different sentences. **"
      ],
      "metadata": {
        "id": "Qp9UaOSY_TG1"
      }
    },
    {
      "cell_type": "code",
      "source": [
        "string=input('enter a sentence with no punctuation marks : ')\n",
        "v='aeiouAEIOU'\n",
        "c=0\n",
        "for i in string:\n",
        "  if i in v:\n",
        "    c+=1\n",
        "print('no vowels in the sentence = ',c)"
      ],
      "metadata": {
        "colab": {
          "base_uri": "https://localhost:8080/"
        },
        "id": "uscZ-rIG_b2q",
        "outputId": "50bdcfdc-8d7c-450b-b057-ea4d84820114"
      },
      "execution_count": null,
      "outputs": [
        {
          "output_type": "stream",
          "name": "stdout",
          "text": [
            "enter a sentence with no punctuation marks : hi hello this is python program\n",
            "no vowels in the sentence =  8\n"
          ]
        }
      ]
    },
    {
      "cell_type": "markdown",
      "source": [
        "**Q6: You have been appointed by the election commission to create a website. Your first task is to work on a program which tells candidates if they are eligible for voting or not. If they are eligible your output should be ‘Congrats! You are eligible’, otherwise it should tell that you have to return after X number of years. Eligibility criteria for voting is 18 years. \n",
        "\n",
        "For example, If someone is 18 or above your output should be ‘Congrats! You are eligible’. If someone’s age is 15 years it should print output as ‘return after 3 years’.   **"
      ],
      "metadata": {
        "id": "dS4wRCUrAIyD"
      }
    },
    {
      "cell_type": "code",
      "source": [
        "age=int(input('enter your age : '))\n",
        "age_limit=18\n",
        "if age>=18:\n",
        "  print('Congrats! You are eligible')\n",
        "else:\n",
        "  print('return after ',age_limit-age,' years')"
      ],
      "metadata": {
        "colab": {
          "base_uri": "https://localhost:8080/"
        },
        "id": "e1CSWlx9APGU",
        "outputId": "e9c90f57-caac-426a-82df-dd0145c568a1"
      },
      "execution_count": null,
      "outputs": [
        {
          "output_type": "stream",
          "name": "stdout",
          "text": [
            "enter your age : 45\n",
            "Congrats! You are eligible\n"
          ]
        }
      ]
    }
  ]
}