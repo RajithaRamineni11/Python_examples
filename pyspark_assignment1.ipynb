{
  "nbformat": 4,
  "nbformat_minor": 0,
  "metadata": {
    "colab": {
      "provenance": []
    },
    "kernelspec": {
      "name": "python3",
      "display_name": "Python 3"
    },
    "language_info": {
      "name": "python"
    }
  },
  "cells": [
    {
      "cell_type": "code",
      "execution_count": null,
      "metadata": {
        "colab": {
          "base_uri": "https://localhost:8080/"
        },
        "id": "38qGXAKXwrYp",
        "outputId": "f375d511-9e97-46d6-c66c-23725038fec3"
      },
      "outputs": [
        {
          "output_type": "stream",
          "name": "stdout",
          "text": [
            "Looking in indexes: https://pypi.org/simple, https://us-python.pkg.dev/colab-wheels/public/simple/\n",
            "Collecting pyspark\n",
            "  Downloading pyspark-3.3.1.tar.gz (281.4 MB)\n",
            "\u001b[K     |████████████████████████████████| 281.4 MB 48 kB/s \n",
            "\u001b[?25hCollecting py4j==0.10.9.5\n",
            "  Downloading py4j-0.10.9.5-py2.py3-none-any.whl (199 kB)\n",
            "\u001b[K     |████████████████████████████████| 199 kB 66.0 MB/s \n",
            "\u001b[?25hBuilding wheels for collected packages: pyspark\n",
            "  Building wheel for pyspark (setup.py) ... \u001b[?25l\u001b[?25hdone\n",
            "  Created wheel for pyspark: filename=pyspark-3.3.1-py2.py3-none-any.whl size=281845512 sha256=85eb326af7e7b5efde99b21773886da30f28a286f33a8f7d7996073f349c89f4\n",
            "  Stored in directory: /root/.cache/pip/wheels/43/dc/11/ec201cd671da62fa9c5cc77078235e40722170ceba231d7598\n",
            "Successfully built pyspark\n",
            "Installing collected packages: py4j, pyspark\n",
            "Successfully installed py4j-0.10.9.5 pyspark-3.3.1\n"
          ]
        }
      ],
      "source": [
        "pip install pyspark"
      ]
    },
    {
      "cell_type": "code",
      "source": [
        "from pyspark import SparkContext,SparkConf\n",
        "from pyspark.sql import SparkSession\n",
        "from pyspark.sql import SQLContext"
      ],
      "metadata": {
        "id": "hWIpcajmybws"
      },
      "execution_count": null,
      "outputs": []
    },
    {
      "cell_type": "code",
      "source": [
        "conf=SparkConf().setAppName('pyspark_Assignment')\n",
        "sc=SparkContext(conf=conf)\n",
        "spark=SparkSession.builder.appName('first_assignment').getOrCreate()\n",
        "sqlcontext=SQLContext(sc)"
      ],
      "metadata": {
        "id": "C1ZbIQK20ifQ",
        "colab": {
          "base_uri": "https://localhost:8080/"
        },
        "outputId": "21ff47a5-28e8-4a5a-f7b8-9163fc28d17e"
      },
      "execution_count": null,
      "outputs": [
        {
          "output_type": "stream",
          "name": "stderr",
          "text": [
            "/usr/local/lib/python3.8/dist-packages/pyspark/sql/context.py:112: FutureWarning: Deprecated in 3.0.0. Use SparkSession.builder.getOrCreate() instead.\n",
            "  warnings.warn(\n"
          ]
        }
      ]
    },
    {
      "cell_type": "markdown",
      "source": [
        "# 1.Create a dataframe with Total Aadhaar's generated for each state"
      ],
      "metadata": {
        "id": "hVWgyAcix8yQ"
      }
    },
    {
      "cell_type": "code",
      "source": [
        "df=spark.read.format('csv').option('header','true').option('delimiter',',').option('inferSchema','true').load('/content/UIDAI-ENR-DETAIL-20170308.csv')\n",
        "df.show()"
      ],
      "metadata": {
        "id": "IzQCpgw5z7-E",
        "colab": {
          "base_uri": "https://localhost:8080/"
        },
        "outputId": "12335daa-b1da-4a93-9941-5ed2f4db18b6"
      },
      "execution_count": null,
      "outputs": [
        {
          "output_type": "stream",
          "name": "stdout",
          "text": [
            "+--------------------+--------------------+-------------+----------+------------+--------+------+---+-----------------+------------------+-------------------------+---------------------------------+\n",
            "|           Registrar|    Enrolment Agency|        State|  District|Sub District|Pin Code|Gender|Age|Aadhaar generated|Enrolment Rejected|Residents providing email|Residents providing mobile number|\n",
            "+--------------------+--------------------+-------------+----------+------------+--------+------+---+-----------------+------------------+-------------------------+---------------------------------+\n",
            "|      Allahabad Bank|A-Onerealtors Pvt...|Uttar Pradesh| Allahabad|        Meja|  212303|     F|  7|                1|                 0|                        0|                                1|\n",
            "|      Allahabad Bank|Asha Security Gua...|Uttar Pradesh| Sonbhadra| Robertsganj|  231213|     M|  8|                1|                 0|                        0|                                0|\n",
            "|      Allahabad Bank|   SGS INDIA PVT LTD|Uttar Pradesh| Sultanpur|   Sultanpur|  227812|     F| 13|                1|                 0|                        0|                                1|\n",
            "|      Allahabad Bank|Sri Ramraja Sarka...|Uttar Pradesh|    Shamli|      Shamli|  247775|     M|  6|                1|                 0|                        0|                                1|\n",
            "|      Allahabad Bank|  Transmoovers India|Uttar Pradesh| Gorakhpur|    Sahjanwa|  273001|     M|  8|                1|                 0|                        0|                                1|\n",
            "|      Allahabad Bank|  Transmoovers India|Uttar Pradesh|  Varanasi|      Pindra|  221101|     M| 14|                1|                 0|                        0|                                1|\n",
            "|      Allahabad Bank|  Transmoovers India|Uttar Pradesh|  Varanasi|    Varanasi|  221001|     M|  9|                1|                 0|                        0|                                1|\n",
            "|      Allahabad Bank|  Transmoovers India|Uttar Pradesh|  Varanasi|    Varanasi|  221002|     M|  4|                1|                 0|                        0|                                1|\n",
            "|      Allahabad Bank|  Transmoovers India|Uttar Pradesh|  Varanasi|    Varanasi|  221002|     M| 10|                0|                 1|                        0|                                1|\n",
            "|      Allahabad Bank|  Transmoovers India|Uttar Pradesh|  Varanasi|    Varanasi|  221002|     M| 19|                1|                 0|                        0|                                1|\n",
            "|      Allahabad Bank|Vedavaag Systems ...|Uttar Pradesh|Bara Banki|   Nawabganj|  225301|     M|  8|                1|                 0|                        0|                                0|\n",
            "|Atalji Janasnehi ...|Atalji Janasnehi ...|        Assam|  Marigaon|   Bhuragaon|  782121|     M| 22|                1|                 0|                        0|                                1|\n",
            "|Atalji Janasnehi ...|Atalji Janasnehi ...|        Bihar| Gopalganj|  Vijayeepur|  841508|     M| 26|                1|                 0|                        0|                                1|\n",
            "|Atalji Janasnehi ...|Atalji Janasnehi ...|    Karnataka|  Bagalkot|      Badami|  587114|     M| 27|                1|                 0|                        0|                                1|\n",
            "|Atalji Janasnehi ...|Atalji Janasnehi ...|    Karnataka|  Bagalkot|      Badami|  587155|     F|  2|                1|                 0|                        0|                                1|\n",
            "|Atalji Janasnehi ...|Atalji Janasnehi ...|    Karnataka|  Bagalkot|      Badami|  587155|     M| 67|                1|                 0|                        0|                                1|\n",
            "|Atalji Janasnehi ...|Atalji Janasnehi ...|    Karnataka|  Bagalkot|      Badami|  587201|     F| 32|                1|                 0|                        0|                                1|\n",
            "|Atalji Janasnehi ...|Atalji Janasnehi ...|    Karnataka|  Bagalkot|      Badami|  587203|     M| 27|                1|                 0|                        0|                                1|\n",
            "|Atalji Janasnehi ...|Atalji Janasnehi ...|    Karnataka|  Bagalkot|      Badami|  587206|     F| 40|                1|                 0|                        0|                                0|\n",
            "|Atalji Janasnehi ...|Atalji Janasnehi ...|    Karnataka|  Bagalkot|      Badami|  587206|     M| 28|                1|                 0|                        0|                                1|\n",
            "+--------------------+--------------------+-------------+----------+------------+--------+------+---+-----------------+------------------+-------------------------+---------------------------------+\n",
            "only showing top 20 rows\n",
            "\n"
          ]
        }
      ]
    },
    {
      "cell_type": "code",
      "source": [
        "df1=df.filter(df['Aadhaar generated']>=1)\n",
        "res=df1.groupBy('State').sum('Aadhaar generated')\n",
        "res.show()"
      ],
      "metadata": {
        "colab": {
          "base_uri": "https://localhost:8080/"
        },
        "id": "evuFn4Gs_vf6",
        "outputId": "a2b17f7f-b5d1-4100-eaa6-7049c1f4d2f8"
      },
      "execution_count": null,
      "outputs": [
        {
          "output_type": "stream",
          "name": "stdout",
          "text": [
            "+--------------------+----------------------+\n",
            "|               State|sum(Aadhaar generated)|\n",
            "+--------------------+----------------------+\n",
            "|            Nagaland|                   545|\n",
            "|           Karnataka|                 19764|\n",
            "|              Odisha|                 18182|\n",
            "|              Kerala|                 15143|\n",
            "|          Tamil Nadu|                 32485|\n",
            "|        Chhattisgarh|                  6604|\n",
            "|      Andhra Pradesh|                  5798|\n",
            "|      Madhya Pradesh|                 53276|\n",
            "|              Punjab|                  6506|\n",
            "|             Manipur|                  1323|\n",
            "|                 Goa|                  1167|\n",
            "|             Mizoram|                  6279|\n",
            "|Dadra and Nagar H...|                   140|\n",
            "|    Himachal Pradesh|                  1547|\n",
            "|          Puducherry|                    83|\n",
            "|             Haryana|                  6804|\n",
            "|   Jammu and Kashmir|                  1234|\n",
            "|           Jharkhand|                  9868|\n",
            "|   Arunachal Pradesh|                   913|\n",
            "|             Gujarat|                 34844|\n",
            "+--------------------+----------------------+\n",
            "only showing top 20 rows\n",
            "\n"
          ]
        }
      ]
    },
    {
      "cell_type": "markdown",
      "source": [
        "# 2.Create a dataframe with the Total Aadhaar's generated by each enrollment agency"
      ],
      "metadata": {
        "id": "YsbwwNdRCysP"
      }
    },
    {
      "cell_type": "code",
      "source": [
        "df2=df.groupBy('Enrolment Agency').sum('Aadhaar generated')\n",
        "df2.show()"
      ],
      "metadata": {
        "colab": {
          "base_uri": "https://localhost:8080/"
        },
        "id": "d1wWcVk8CvGE",
        "outputId": "e7511345-b8c5-4957-86ab-e7d136b10728"
      },
      "execution_count": null,
      "outputs": [
        {
          "output_type": "stream",
          "name": "stdout",
          "text": [
            "+--------------------+----------------------+\n",
            "|    Enrolment Agency|sum(Aadhaar generated)|\n",
            "+--------------------+----------------------+\n",
            "|Raj Construction Co.|                   532|\n",
            "|      CO JOMLO MOBUK|                     8|\n",
            "|NPS Technologies ...|                  9692|\n",
            "|    APOnline Limited|                   305|\n",
            "|  Transmoovers India|                     5|\n",
            "|Zephyr System Pvt...|                  6946|\n",
            "|          ADC BOLENG|                     2|\n",
            "|Emdee Digitronics...|                  2078|\n",
            "|Netlink software ...|                  4832|\n",
            "|     DSO STAT NAMSAI|                    50|\n",
            "|Estex Telecom Pvt...|                  1894|\n",
            "|Squaria Global In...|                  1368|\n",
            "|EAC OFFICE KAYING...|                    21|\n",
            "|IAP COMPANY Pvt. Ltd|                 10644|\n",
            "|Prakash Computer ...|                  2817|\n",
            "|      CDPO Tezu ICDS|                    66|\n",
            "|       APEX Services|                   109|\n",
            "|Synapses Solution...|                  2843|\n",
            "|Yashi Informatics...|                     5|\n",
            "|HyperSoft Technol...|                    33|\n",
            "+--------------------+----------------------+\n",
            "only showing top 20 rows\n",
            "\n"
          ]
        }
      ]
    },
    {
      "cell_type": "markdown",
      "source": [
        "# 3.Create dataframe with the top 10 districts with maximum Aadhaar's generated for both Male and females"
      ],
      "metadata": {
        "id": "9DqKtRY8DWCn"
      }
    },
    {
      "cell_type": "code",
      "source": [
        "import pyspark.sql.functions as f "
      ],
      "metadata": {
        "id": "HLVCyg-1SEmo"
      },
      "execution_count": null,
      "outputs": []
    },
    {
      "cell_type": "code",
      "source": [
        "df=spark.read.format('csv').option('header','true').option('delimiter',',').option('inferSchema','true').load('/content/UIDAI-ENR-DETAIL-20170308.csv')\n",
        "df1=df.filter(df['Gender']=='F')\n",
        "df2=df1.groupBy('District').sum('Aadhaar generated')\n",
        "df3=df2.orderBy(f.desc(\"sum(Aadhaar generated)\")).limit(10)\n",
        "df3.show()"
      ],
      "metadata": {
        "colab": {
          "base_uri": "https://localhost:8080/"
        },
        "id": "NDbhdu54QG1w",
        "outputId": "1cf5ddba-2317-4ad7-adf5-15a3b3b62342"
      },
      "execution_count": null,
      "outputs": [
        {
          "output_type": "stream",
          "name": "stdout",
          "text": [
            "+-----------------+----------------------+\n",
            "|         District|sum(Aadhaar generated)|\n",
            "+-----------------+----------------------+\n",
            "|       Barddhaman|                  9744|\n",
            "|South 24 Parganas|                  8382|\n",
            "|North 24 Parganas|                  6108|\n",
            "|             Gaya|                  4796|\n",
            "|       Jalpaiguri|                  4428|\n",
            "|Paschim Medinipur|                  3965|\n",
            "|           Howrah|                  3516|\n",
            "|        Bhagalpur|                  3472|\n",
            "|           Budaun|                  2905|\n",
            "|            Banka|                  2882|\n",
            "+-----------------+----------------------+\n",
            "\n"
          ]
        }
      ]
    },
    {
      "cell_type": "code",
      "source": [
        "df=spark.read.format('csv').option('header','true').option('delimiter',',').option('inferSchema','true').load('/content/UIDAI-ENR-DETAIL-20170308.csv')\n",
        "df1=df.groupBy('District','Gender').sum('Aadhaar generated')\n",
        "df2=df1.orderBy(f.desc(\"sum(Aadhaar generated)\")).limit(10)\n",
        "df2.show()"
      ],
      "metadata": {
        "colab": {
          "base_uri": "https://localhost:8080/"
        },
        "id": "naOc5OSkDVjS",
        "outputId": "4d0a4702-2422-4939-efbe-f08ab818ad18"
      },
      "execution_count": null,
      "outputs": [
        {
          "output_type": "stream",
          "name": "stdout",
          "text": [
            "+-----------------+------+----------------------+\n",
            "|         District|Gender|sum(Aadhaar generated)|\n",
            "+-----------------+------+----------------------+\n",
            "|        Bhagalpur|     M|                 11007|\n",
            "|       Barddhaman|     F|                  9744|\n",
            "|South 24 Parganas|     F|                  8382|\n",
            "|South 24 Parganas|     M|                  7825|\n",
            "|          Katihar|     M|                  6968|\n",
            "|      Murshidabad|     M|                  6808|\n",
            "|       Samastipur|     M|                  6195|\n",
            "|            Patna|     M|                  6191|\n",
            "|North 24 Parganas|     F|                  6108|\n",
            "|       Barddhaman|     M|                  6077|\n",
            "+-----------------+------+----------------------+\n",
            "\n"
          ]
        }
      ]
    },
    {
      "cell_type": "markdown",
      "source": [
        "# 4.Create a dataframe with Total Aadhaar generated for the top 10 least states"
      ],
      "metadata": {
        "id": "kYxgYIq6TrDB"
      }
    },
    {
      "cell_type": "code",
      "source": [
        "df=spark.read.format('csv').option('header','true').option('delimiter',',').option('inferSchema','true').load('/content/UIDAI-ENR-DETAIL-20170308.csv')\n",
        "df1=df.groupBy('State').sum('Aadhaar generated')\n",
        "df2=df1.orderBy(f.asc(\"sum(Aadhaar generated)\")).limit(10)\n",
        "df2.show()"
      ],
      "metadata": {
        "colab": {
          "base_uri": "https://localhost:8080/"
        },
        "id": "YlVCyOkGTtRm",
        "outputId": "f47bae77-6d5e-42f0-98bc-7f9c2eeafcb3"
      },
      "execution_count": null,
      "outputs": [
        {
          "output_type": "stream",
          "name": "stdout",
          "text": [
            "+--------------------+----------------------+\n",
            "|               State|sum(Aadhaar generated)|\n",
            "+--------------------+----------------------+\n",
            "|         Lakshadweep|                     4|\n",
            "|Andaman and Nicob...|                     5|\n",
            "|              Others|                    12|\n",
            "|              Sikkim|                    50|\n",
            "|          Puducherry|                    83|\n",
            "|       Daman and Diu|                   105|\n",
            "|Dadra and Nagar H...|                   140|\n",
            "|          Chandigarh|                   259|\n",
            "|           Meghalaya|                   277|\n",
            "|            Nagaland|                   545|\n",
            "+--------------------+----------------------+\n",
            "\n"
          ]
        }
      ]
    },
    {
      "cell_type": "markdown",
      "source": [
        "# 5.For which age, most Aadhar cards have declined"
      ],
      "metadata": {
        "id": "eF4MPossUjNQ"
      }
    },
    {
      "cell_type": "code",
      "source": [
        "df=spark.read.format('csv').option('header','true').option('delimiter',',').option('inferSchema','true').load('/content/UIDAI-ENR-DETAIL-20170308.csv')\n",
        "df1=df.filter(df['Aadhaar generated']==0)\n",
        "df2=df1.groupBy('State').count()\n",
        "df3=df2.orderBy(f.desc('count')).limit(10)\n",
        "df3.show()"
      ],
      "metadata": {
        "colab": {
          "base_uri": "https://localhost:8080/"
        },
        "id": "ZtdV-kjsUlN7",
        "outputId": "db9e3410-bb31-4cc2-b034-a2b1ae53a579"
      },
      "execution_count": null,
      "outputs": [
        {
          "output_type": "stream",
          "name": "stdout",
          "text": [
            "+--------------+-----+\n",
            "|         State|count|\n",
            "+--------------+-----+\n",
            "|         Bihar| 2982|\n",
            "| Uttar Pradesh| 2854|\n",
            "|   West Bengal| 2770|\n",
            "|Madhya Pradesh| 1654|\n",
            "|     Rajasthan| 1143|\n",
            "|   Maharashtra| 1117|\n",
            "|       Gujarat| 1087|\n",
            "|     Karnataka| 1025|\n",
            "|        Odisha|  860|\n",
            "|    Tamil Nadu|  776|\n",
            "+--------------+-----+\n",
            "\n"
          ]
        }
      ]
    },
    {
      "cell_type": "code",
      "source": [
        "df=spark.read.format('csv').option('header','true').option('delimiter',',').option('inferSchema','true').load('/content/UIDAI-ENR-DETAIL-20170308.csv')\n",
        "df1=df.filter(df['Enrolment Rejected']==1)\n",
        "df2=df1.groupBy('Age').sum('Enrolment Rejected')\n",
        "df3=df2.orderBy(f.desc('sum(Enrolment Rejected)'))\n",
        "df3.show()"
      ],
      "metadata": {
        "colab": {
          "base_uri": "https://localhost:8080/"
        },
        "id": "g4qwjUsAYW3x",
        "outputId": "bf7bff52-9ae0-4e79-f537-068f8219a30d"
      },
      "execution_count": null,
      "outputs": [
        {
          "output_type": "stream",
          "name": "stdout",
          "text": [
            "+---+-----------------------+\n",
            "|Age|sum(Enrolment Rejected)|\n",
            "+---+-----------------------+\n",
            "|  4|                   3071|\n",
            "|  3|                   2546|\n",
            "|  2|                   2364|\n",
            "|  1|                   2294|\n",
            "|  0|                   2050|\n",
            "|  5|                   1431|\n",
            "|  6|                   1227|\n",
            "|  7|                   1067|\n",
            "|  8|                    884|\n",
            "|  9|                    707|\n",
            "| 10|                    702|\n",
            "| 11|                    496|\n",
            "| 12|                    463|\n",
            "| 13|                    363|\n",
            "| 18|                    349|\n",
            "| 14|                    315|\n",
            "| 22|                    313|\n",
            "| 20|                    305|\n",
            "| 21|                    279|\n",
            "| 19|                    275|\n",
            "+---+-----------------------+\n",
            "only showing top 20 rows\n",
            "\n"
          ]
        }
      ]
    }
  ]
}