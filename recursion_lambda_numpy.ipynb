{
  "nbformat": 4,
  "nbformat_minor": 0,
  "metadata": {
    "colab": {
      "provenance": [],
      "toc_visible": true
    },
    "kernelspec": {
      "name": "python3",
      "display_name": "Python 3"
    },
    "language_info": {
      "name": "python"
    }
  },
  "cells": [
    {
      "cell_type": "code",
      "source": [
        "#factorial of given number\n",
        "def fac(n):\n",
        "  if n<=1:\n",
        "    return 1\n",
        "  return n*fac(n-1)\n",
        "print(fac(int(input())))"
      ],
      "metadata": {
        "colab": {
          "base_uri": "https://localhost:8080/"
        },
        "id": "exzuRpmhiE2e",
        "outputId": "8e7ce269-fe82-4a91-8105-2ff60d2cd611"
      },
      "execution_count": null,
      "outputs": [
        {
          "output_type": "stream",
          "name": "stdout",
          "text": [
            "5\n",
            "120\n"
          ]
        }
      ]
    },
    {
      "cell_type": "code",
      "source": [
        "#using function add,and subtraction\n",
        "def add(a,b):\n",
        "  return a+b\n",
        "def sub(a,b):\n",
        "  return add(a,-b)\n",
        "\n",
        "print(sub(5,2))"
      ],
      "metadata": {
        "colab": {
          "base_uri": "https://localhost:8080/"
        },
        "id": "Xm9bEPeGirfX",
        "outputId": "8a8c2f7a-847f-4b97-b72b-ffaab1ab92fb"
      },
      "execution_count": null,
      "outputs": [
        {
          "output_type": "stream",
          "name": "stdout",
          "text": [
            "3\n"
          ]
        }
      ]
    },
    {
      "cell_type": "code",
      "source": [
        " # func to return the sum of n numbers\n",
        "def addfunc(n):\n",
        "  if n==1:\n",
        "    return 1\n",
        "  newnum=n-1\n",
        "  ret= n+addfunc(newnum)\n",
        "  print(f'adding {n} with {ret}')\n",
        "  return n\n",
        "addfunc(5)"
      ],
      "metadata": {
        "colab": {
          "base_uri": "https://localhost:8080/"
        },
        "id": "xHfuIHzpjXRm",
        "outputId": "66ad06bb-c4e9-4f26-cf85-7725b692ee69"
      },
      "execution_count": null,
      "outputs": [
        {
          "output_type": "stream",
          "name": "stdout",
          "text": [
            "adding 2 with 3\n",
            "adding 3 with 5\n",
            "adding 4 with 7\n",
            "adding 5 with 9\n"
          ]
        },
        {
          "output_type": "execute_result",
          "data": {
            "text/plain": [
              "5"
            ]
          },
          "metadata": {},
          "execution_count": 4
        }
      ]
    },
    {
      "cell_type": "code",
      "source": [
        "def addn(n):\n",
        "  x=0\n",
        "  if n>1:\n",
        "    x=n\n",
        "    return x+addn(n-1)\n",
        "  if n==1:\n",
        "    return 1\n",
        "res=addn(int(input()))\n",
        "print(res) "
      ],
      "metadata": {
        "colab": {
          "base_uri": "https://localhost:8080/"
        },
        "id": "-YjYzViC15sP",
        "outputId": "2c5c7292-ded9-4d84-bf52-5734d273cb1f"
      },
      "execution_count": 50,
      "outputs": [
        {
          "output_type": "stream",
          "name": "stdout",
          "text": [
            "10\n",
            "55\n"
          ]
        }
      ]
    },
    {
      "cell_type": "code",
      "source": [
        " # func to return the sum of n numbers\n",
        "def addfunc(n):\n",
        "  if n==1:\n",
        "    return 1\n",
        "  else:\n",
        "    return n+addfunc(n-1)\n",
        "\n",
        "n=int(input())\n",
        "x=addfunc(n)\n",
        "print(x)"
      ],
      "metadata": {
        "colab": {
          "base_uri": "https://localhost:8080/"
        },
        "id": "C5-sMuijlblc",
        "outputId": "9df352a5-e234-4aba-aa78-83ade100db16"
      },
      "execution_count": null,
      "outputs": [
        {
          "output_type": "stream",
          "name": "stdout",
          "text": [
            "6\n",
            "21\n"
          ]
        }
      ]
    },
    {
      "cell_type": "code",
      "source": [
        "#gcd of given numbers\n",
        "def gcd(a,b):\n",
        "  if a==b:\n",
        "    return a\n",
        "  elif a>b:\n",
        "    return gcd(a-b,b)\n",
        "  else:\n",
        "    return gcd(a,b-a) \n",
        "print(gcd(25,550))\n"
      ],
      "metadata": {
        "colab": {
          "base_uri": "https://localhost:8080/"
        },
        "id": "98WCLU1LkdM-",
        "outputId": "c0fdc3ed-d13b-4d65-ce18-c7df5ef4a853"
      },
      "execution_count": 52,
      "outputs": [
        {
          "output_type": "stream",
          "name": "stdout",
          "text": [
            "25\n"
          ]
        }
      ]
    },
    {
      "cell_type": "code",
      "source": [
        "def squa(num):\n",
        "  return num*num\n",
        "squa(4)"
      ],
      "metadata": {
        "colab": {
          "base_uri": "https://localhost:8080/"
        },
        "id": "Xbw1S7Inm8xd",
        "outputId": "4bc559c4-ec63-4c75-9ad3-5c535962815c"
      },
      "execution_count": null,
      "outputs": [
        {
          "output_type": "execute_result",
          "data": {
            "text/plain": [
              "16"
            ]
          },
          "metadata": {},
          "execution_count": 8
        }
      ]
    },
    {
      "cell_type": "code",
      "source": [
        "x=lambda a:a*a\n",
        "print(x(4))\n"
      ],
      "metadata": {
        "colab": {
          "base_uri": "https://localhost:8080/"
        },
        "id": "OcS9U9konDel",
        "outputId": "ebd63c22-84ca-41da-bad7-b4604d143b9d"
      },
      "execution_count": null,
      "outputs": [
        {
          "output_type": "stream",
          "name": "stdout",
          "text": [
            "16\n"
          ]
        }
      ]
    },
    {
      "cell_type": "code",
      "execution_count": null,
      "metadata": {
        "colab": {
          "base_uri": "https://localhost:8080/"
        },
        "id": "iNLuqtbv2_kO",
        "outputId": "59448afc-026b-4e88-e88f-6abcd38c5513"
      },
      "outputs": [
        {
          "output_type": "stream",
          "name": "stdout",
          "text": [
            "[25, 65, 82]\n"
          ]
        }
      ],
      "source": [
        "# Python code to illustrate\n",
        "# filter() with lambda()\n",
        "age = [25, 65, 82, 41, 33]\n",
        " \n",
        "greater_60 = list(filter(lambda x: (x > 60) or (x < 30), age))\n",
        "print(greater_60)"
      ]
    },
    {
      "cell_type": "code",
      "source": [
        "age = [25, 65, 82, 41, 33]\n",
        "a=list(filter(lambda x:x<60,age))\n",
        "print(a)"
      ],
      "metadata": {
        "colab": {
          "base_uri": "https://localhost:8080/"
        },
        "id": "ZK11Eo_P5aPc",
        "outputId": "ef4cd016-0c22-471f-b013-d63e24d553eb"
      },
      "execution_count": null,
      "outputs": [
        {
          "output_type": "stream",
          "name": "stdout",
          "text": [
            "[25, 41, 33]\n"
          ]
        }
      ]
    },
    {
      "cell_type": "code",
      "source": [
        "def gcd(a,b):\n",
        "  if a==b:\n",
        "    return a\n",
        "  if a>b:\n",
        "    return gcd(a-b,b)\n",
        "  else:\n",
        "    return gcd(a,b-a)\n",
        "\n",
        "print(gcd(100,15))\n"
      ],
      "metadata": {
        "id": "eLRGg8_Z_z5e",
        "colab": {
          "base_uri": "https://localhost:8080/"
        },
        "outputId": "a2b321e2-29cb-4318-94e2-553e6dcd4400"
      },
      "execution_count": null,
      "outputs": [
        {
          "output_type": "stream",
          "name": "stdout",
          "text": [
            "5\n"
          ]
        }
      ]
    },
    {
      "cell_type": "code",
      "source": [
        "#lcm of given numbers\n",
        "def lcm(a,b):\n",
        "  if a==b:\n",
        "    return (x*y)/a\n",
        "  elif a>b:\n",
        "    return lcm(a-b,b)\n",
        "  else:\n",
        "    return lcm(a,b-a)\n",
        "x=int(input())\n",
        "y=int(input())\n",
        "print(lcm(x,y))"
      ],
      "metadata": {
        "colab": {
          "base_uri": "https://localhost:8080/"
        },
        "id": "wxOG-J55p5ec",
        "outputId": "da19e1bc-db4b-4374-beda-af3ab520b2e2"
      },
      "execution_count": null,
      "outputs": [
        {
          "output_type": "stream",
          "name": "stdout",
          "text": [
            "22\n",
            "32\n",
            "352.0\n"
          ]
        }
      ]
    },
    {
      "cell_type": "code",
      "source": [
        "l=[1,2,3,4,5,6]\n",
        "a=list(map(lambda x: x+5,l))\n",
        "print(a)"
      ],
      "metadata": {
        "id": "0p0L7edKGavI",
        "colab": {
          "base_uri": "https://localhost:8080/"
        },
        "outputId": "33bd3308-5298-480c-af3c-b1c3f850eea3"
      },
      "execution_count": null,
      "outputs": [
        {
          "output_type": "stream",
          "name": "stdout",
          "text": [
            "[6, 7, 8, 9, 10, 11]\n"
          ]
        }
      ]
    },
    {
      "cell_type": "code",
      "source": [
        "# Count how many times a specific number is present\n",
        "list1 = [45, 52, 55, 55, 76, 76, 55, 86, 92]\n",
        "value = 55\n",
        "Count_55 = 0\n",
        "for i in list1:\n",
        "  if i == value:\n",
        "    Count_55 = Count_55 + 1\n",
        "print(Count_55)\n"
      ],
      "metadata": {
        "colab": {
          "base_uri": "https://localhost:8080/"
        },
        "id": "vJvvqwQKRpUR",
        "outputId": "f199450c-bc11-4f23-a021-68e9d0d92a1e"
      },
      "execution_count": null,
      "outputs": [
        {
          "output_type": "stream",
          "name": "stdout",
          "text": [
            "3\n"
          ]
        }
      ]
    },
    {
      "cell_type": "code",
      "source": [
        "n=[12,23,21,67,34,56,98,66,22]\n",
        "print('Ascending order :',sorted(n))\n",
        "print('Descending order :',sorted(n,reverse=True))"
      ],
      "metadata": {
        "colab": {
          "base_uri": "https://localhost:8080/"
        },
        "id": "ry-feAsCQ1-G",
        "outputId": "0ba29539-484f-4ddd-8739-a84e29649afe"
      },
      "execution_count": null,
      "outputs": [
        {
          "output_type": "stream",
          "name": "stdout",
          "text": [
            "Ascending order : [12, 21, 22, 23, 34, 56, 66, 67, 98]\n",
            "Descending order : [98, 67, 66, 56, 34, 23, 22, 21, 12]\n"
          ]
        }
      ]
    },
    {
      "cell_type": "code",
      "source": [
        "#sorting based on last digit\n",
        "def ldigit(n):\n",
        "  return n%10\n",
        "\n",
        "n=[12,23,21,67,34,56,98,66,22]\n",
        "print(sorted(n,key=ldigit))\n"
      ],
      "metadata": {
        "colab": {
          "base_uri": "https://localhost:8080/"
        },
        "id": "6DoFZh6CTuI9",
        "outputId": "9be3377e-eae7-4c35-f114-19d8f94650cb"
      },
      "execution_count": null,
      "outputs": [
        {
          "output_type": "stream",
          "name": "stdout",
          "text": [
            "[21, 12, 22, 23, 34, 56, 66, 67, 98]\n"
          ]
        }
      ]
    },
    {
      "cell_type": "code",
      "source": [
        "#sorting based on last digit using lambda\n",
        "n=[12,23,21,67,34,56,98,66,20]\n",
        "print(sorted(n,key=lambda a:a%10))\n"
      ],
      "metadata": {
        "colab": {
          "base_uri": "https://localhost:8080/"
        },
        "id": "yoVzjiNNbBeW",
        "outputId": "7bdb676d-5fee-45b6-e408-b79ccfc711ef"
      },
      "execution_count": null,
      "outputs": [
        {
          "output_type": "stream",
          "name": "stdout",
          "text": [
            "[20, 21, 12, 23, 34, 56, 66, 67, 98]\n"
          ]
        }
      ]
    },
    {
      "cell_type": "code",
      "source": [
        "#sorting based on two last digits using lambda\n",
        "n=[121,232,219,676,348,565,984,661,202]\n",
        "print(sorted(n,key=lambda x:x%100))"
      ],
      "metadata": {
        "colab": {
          "base_uri": "https://localhost:8080/"
        },
        "id": "C3MiGHxJcjvH",
        "outputId": "bd5746ec-5f96-4c2b-9ce6-5ef97973c4ee"
      },
      "execution_count": null,
      "outputs": [
        {
          "output_type": "stream",
          "name": "stdout",
          "text": [
            "[202, 219, 121, 232, 348, 661, 565, 676, 984]\n"
          ]
        }
      ]
    },
    {
      "cell_type": "code",
      "source": [
        "n=[343,345,567,234,765,987,123,531,921,234]\n",
        "print(sorted(n,key=lambda x:x%100,reverse=True))"
      ],
      "metadata": {
        "colab": {
          "base_uri": "https://localhost:8080/"
        },
        "id": "0XXx5QlN5kxW",
        "outputId": "584feb58-0791-4c2a-a74d-a38cd677d4bd"
      },
      "execution_count": 54,
      "outputs": [
        {
          "output_type": "stream",
          "name": "stdout",
          "text": [
            "[987, 567, 765, 345, 343, 234, 234, 531, 123, 921]\n"
          ]
        }
      ]
    },
    {
      "cell_type": "code",
      "source": [
        "x=lambda a,b:a if a>b else b\n",
        "print(x(10,32))\n",
        "print(x(56,12))"
      ],
      "metadata": {
        "colab": {
          "base_uri": "https://localhost:8080/"
        },
        "id": "FrDl_hr4dhhe",
        "outputId": "65104b54-6187-4b6e-d6d5-2612660ba1b7"
      },
      "execution_count": null,
      "outputs": [
        {
          "output_type": "stream",
          "name": "stdout",
          "text": [
            "32\n",
            "56\n"
          ]
        }
      ]
    },
    {
      "cell_type": "code",
      "source": [
        "n=[12,23,21,67,34,56,98,66,22]\n",
        "\n",
        "print( list( map( lambda x:x*x, n )))"
      ],
      "metadata": {
        "colab": {
          "base_uri": "https://localhost:8080/"
        },
        "id": "j_9ZlaYKfboH",
        "outputId": "b415b95b-eb35-4a95-a429-60aea7c218e2"
      },
      "execution_count": null,
      "outputs": [
        {
          "output_type": "stream",
          "name": "stdout",
          "text": [
            "[144, 529, 441, 4489, 1156, 3136, 9604, 4356, 484]\n"
          ]
        }
      ]
    },
    {
      "cell_type": "code",
      "source": [
        "n=[12,23,21,67,34,56,98,66,22]\n",
        "print(list(map(lambda x:x+10,n)))"
      ],
      "metadata": {
        "colab": {
          "base_uri": "https://localhost:8080/"
        },
        "id": "JytZVgARhWJv",
        "outputId": "a5afdedb-1da2-4117-fa7b-5dc8c4b5c47a"
      },
      "execution_count": 55,
      "outputs": [
        {
          "output_type": "stream",
          "name": "stdout",
          "text": [
            "[22, 33, 31, 77, 44, 66, 108, 76, 32]\n"
          ]
        }
      ]
    },
    {
      "cell_type": "code",
      "source": [
        "print(list(map(lambda x:x/2,n)))"
      ],
      "metadata": {
        "colab": {
          "base_uri": "https://localhost:8080/"
        },
        "id": "Pdx1zoru6IiX",
        "outputId": "60fd5ea9-ca19-4e05-9a62-53206af97817"
      },
      "execution_count": 57,
      "outputs": [
        {
          "output_type": "stream",
          "name": "stdout",
          "text": [
            "[6.0, 11.5, 10.5, 33.5, 17.0, 28.0, 49.0, 33.0, 11.0]\n"
          ]
        }
      ]
    },
    {
      "cell_type": "code",
      "source": [
        "n='12 23 45 56'\n",
        "x=n.split()\n",
        "print(x)\n",
        "print(type(x))\n",
        "y=list(map(int,x))\n",
        "print(y,type(y))\n"
      ],
      "metadata": {
        "colab": {
          "base_uri": "https://localhost:8080/"
        },
        "id": "Vf046Diih3tF",
        "outputId": "2f47e828-4670-4197-e816-01587e78e2ba"
      },
      "execution_count": null,
      "outputs": [
        {
          "output_type": "stream",
          "name": "stdout",
          "text": [
            "['12', '23', '45', '56']\n",
            "<class 'list'>\n",
            "[12, 23, 45, 56] <class 'list'>\n"
          ]
        }
      ]
    },
    {
      "cell_type": "code",
      "source": [
        "#sum of digits of given number\n",
        "def sumofnum(n):\n",
        "  s=0\n",
        "  while n!=0:\n",
        "    m=n%10\n",
        "    s=s+m\n",
        "    n=n//10\n",
        "  return s\n",
        "print(sumofnum(int(input())))"
      ],
      "metadata": {
        "id": "akeOM2SUltFP"
      },
      "execution_count": null,
      "outputs": []
    },
    {
      "cell_type": "code",
      "source": [
        "#sum of digits of given number\n",
        "l=[123,12,34,567,89,43,23]\n",
        "print(list(map(lambda x:sumofnum(x),l)))"
      ],
      "metadata": {
        "colab": {
          "base_uri": "https://localhost:8080/"
        },
        "id": "9hBiscPdmXGH",
        "outputId": "4e0fdff2-7ef7-46c5-d5f7-f0db0d4a0615"
      },
      "execution_count": null,
      "outputs": [
        {
          "output_type": "stream",
          "name": "stdout",
          "text": [
            "[6, 3, 7, 18, 17, 7, 5]\n"
          ]
        }
      ]
    },
    {
      "cell_type": "code",
      "source": [
        "l=[123,12,34,567,89,43,23]\n",
        "x=list(filter(lambda x:x%2==0,l))\n",
        "y=list(filter(lambda x:x%2!=0,l))\n",
        "print('even list',x,'\\nodd list',y)"
      ],
      "metadata": {
        "colab": {
          "base_uri": "https://localhost:8080/"
        },
        "id": "C2mMobEGEAvY",
        "outputId": "aa4432fb-a0a3-4ad4-f07f-1d9714e9316d"
      },
      "execution_count": null,
      "outputs": [
        {
          "output_type": "stream",
          "name": "stdout",
          "text": [
            "even list [12, 34] \n",
            "odd list [123, 567, 89, 43, 23]\n"
          ]
        }
      ]
    },
    {
      "cell_type": "code",
      "source": [
        "#hoow to find all a in the given string\n",
        "import re\n",
        "st='practicing python'\n",
        "print(re.findall('[a]',st))\n",
        "print(re.findall('[t]',st))"
      ],
      "metadata": {
        "id": "VxSZHGQ8S0o5",
        "colab": {
          "base_uri": "https://localhost:8080/"
        },
        "outputId": "dca38d97-a9cd-4b68-c14a-e26a51143d2f"
      },
      "execution_count": 59,
      "outputs": [
        {
          "output_type": "stream",
          "name": "stdout",
          "text": [
            "['a']\n",
            "['t', 't']\n"
          ]
        }
      ]
    },
    {
      "cell_type": "code",
      "source": [
        "import re\n",
        "re.findall('[AEIOU]','TODAY IS SATURDAY')"
      ],
      "metadata": {
        "colab": {
          "base_uri": "https://localhost:8080/"
        },
        "id": "vLSGqynWWWpY",
        "outputId": "d6731005-6ede-43be-a1ba-99d8c4a295a3"
      },
      "execution_count": null,
      "outputs": [
        {
          "output_type": "execute_result",
          "data": {
            "text/plain": [
              "['O', 'A', 'I', 'A', 'U', 'A']"
            ]
          },
          "metadata": {},
          "execution_count": 32
        }
      ]
    },
    {
      "cell_type": "code",
      "source": [
        "re.findall('[ABCDE]','TODAY IS SATURDAY')"
      ],
      "metadata": {
        "colab": {
          "base_uri": "https://localhost:8080/"
        },
        "id": "cWglVH3SWtuZ",
        "outputId": "a9fed62a-cc6f-4622-b453-7333cc38e72b"
      },
      "execution_count": null,
      "outputs": [
        {
          "output_type": "execute_result",
          "data": {
            "text/plain": [
              "['D', 'A', 'A', 'D', 'A']"
            ]
          },
          "metadata": {},
          "execution_count": 8
        }
      ]
    },
    {
      "cell_type": "code",
      "source": [
        "''.join(re.findall('[A-E]','TODAY IS SATURDAY'))"
      ],
      "metadata": {
        "colab": {
          "base_uri": "https://localhost:8080/",
          "height": 35
        },
        "id": "sKhbo1hNWyA4",
        "outputId": "52aa9018-2fb9-49a5-8286-0894b9d92855"
      },
      "execution_count": 60,
      "outputs": [
        {
          "output_type": "execute_result",
          "data": {
            "text/plain": [
              "'DAADA'"
            ],
            "application/vnd.google.colaboratory.intrinsic+json": {
              "type": "string"
            }
          },
          "metadata": {},
          "execution_count": 60
        }
      ]
    },
    {
      "cell_type": "code",
      "source": [
        "MSG='THE OTP IS 23467'\n",
        "''.join(re.findall('[1-9]',MSG))"
      ],
      "metadata": {
        "colab": {
          "base_uri": "https://localhost:8080/",
          "height": 35
        },
        "id": "qoTiyX9SXClI",
        "outputId": "563dc65e-9093-45fd-a4f4-c59648dfa9b9"
      },
      "execution_count": null,
      "outputs": [
        {
          "output_type": "execute_result",
          "data": {
            "text/plain": [
              "'23467'"
            ],
            "application/vnd.google.colaboratory.intrinsic+json": {
              "type": "string"
            }
          },
          "metadata": {},
          "execution_count": 11
        }
      ]
    },
    {
      "cell_type": "code",
      "source": [
        "MSG='THE OTP IS 23467'\n",
        "''.join(re.findall('\\d',MSG))"
      ],
      "metadata": {
        "colab": {
          "base_uri": "https://localhost:8080/",
          "height": 35
        },
        "id": "9RbXpNMNaKXw",
        "outputId": "70f6f26f-07bd-4b62-9af2-4dda449da547"
      },
      "execution_count": null,
      "outputs": [
        {
          "output_type": "execute_result",
          "data": {
            "text/plain": [
              "'23467'"
            ],
            "application/vnd.google.colaboratory.intrinsic+json": {
              "type": "string"
            }
          },
          "metadata": {},
          "execution_count": 12
        }
      ]
    },
    {
      "cell_type": "code",
      "source": [
        "MSG='THE OTP IS 23467'\n",
        "''.join(re.findall('\\D',MSG))"
      ],
      "metadata": {
        "colab": {
          "base_uri": "https://localhost:8080/",
          "height": 35
        },
        "id": "i_y8RvFOaOHh",
        "outputId": "48a694b9-dd1c-43d7-d133-dd3ff31b5fd8"
      },
      "execution_count": null,
      "outputs": [
        {
          "output_type": "execute_result",
          "data": {
            "text/plain": [
              "'THE OTP IS '"
            ],
            "application/vnd.google.colaboratory.intrinsic+json": {
              "type": "string"
            }
          },
          "metadata": {},
          "execution_count": 13
        }
      ]
    },
    {
      "cell_type": "code",
      "source": [
        "DS15 = \"DS15 is in the Third Week of Python\"\n",
        "#Check if the string ends with 'Batch number':\n",
        "\n",
        "x = re.findall(\"Python$\", DS15) # end with Python\n",
        "if x:\n",
        "  print(\"Yes, the string ends with 'Python'\")\n",
        "else:\n",
        "  print(\"No match\")"
      ],
      "metadata": {
        "colab": {
          "base_uri": "https://localhost:8080/"
        },
        "id": "tjuZd5m-fepB",
        "outputId": "b47ff198-164f-45c4-d221-bb2a76cbc575"
      },
      "execution_count": null,
      "outputs": [
        {
          "output_type": "stream",
          "name": "stdout",
          "text": [
            "Yes, the string ends with 'Python'\n"
          ]
        }
      ]
    },
    {
      "cell_type": "code",
      "source": [
        "DS15 = \"DS15 is in the Third Week of Python course\"\n",
        "#Check if the string ends with 'Batch number':\n",
        "\n",
        "x = re.findall(\".$\", DS15) # end with Python\n",
        "if x:\n",
        "  print(\"Yes, the string ends with anythng\")\n",
        "else:\n",
        "  print(\"No match\")"
      ],
      "metadata": {
        "colab": {
          "base_uri": "https://localhost:8080/"
        },
        "id": "_WXhLe-88Yr1",
        "outputId": "c6142e21-60ba-4645-a117-4f2a4a1326f9"
      },
      "execution_count": 62,
      "outputs": [
        {
          "output_type": "stream",
          "name": "stdout",
          "text": [
            "Yes, the string ends with 'Python'\n"
          ]
        }
      ]
    },
    {
      "cell_type": "code",
      "source": [
        "#Filter take a function name and a set of values as arguments\n",
        "values = [2,3,4,5,6,7]\n",
        "el,ol=[],[]\n",
        "def isEven(v):\n",
        "  if v%2==0:\n",
        "    return True\n",
        "\n",
        "for i in values:\n",
        "  if isEven(i):\n",
        "    el.append(i)\n",
        "  else:\n",
        "    ol.append(i)\n",
        "\n",
        "print('even list : ',el,'odd list : ',ol)\n",
        "\n",
        "evenNumbersWithFilter = filter(isEven, values)\n",
        "print(list(evenNumbersWithFilter))\n",
        "\n",
        "print(list(filter(lambda x:isEven(x),values)))"
      ],
      "metadata": {
        "colab": {
          "base_uri": "https://localhost:8080/"
        },
        "id": "LkbmSMymDuTp",
        "outputId": "143e13ed-24b5-4934-ede5-8888bc69374d"
      },
      "execution_count": 63,
      "outputs": [
        {
          "output_type": "stream",
          "name": "stdout",
          "text": [
            "even list :  [2, 4, 6] odd list :  [3, 5, 7]\n",
            "[2, 4, 6]\n",
            "[2, 4, 6]\n"
          ]
        }
      ]
    },
    {
      "cell_type": "code",
      "source": [
        "#sorting based on last digit\n",
        "def ldigit(n):\n",
        "  return n%10\n",
        "\n",
        "n=[12,23,21,67,34,56,98,66,22]\n",
        "print(sorted(n,key=ldigit))\n",
        "\n",
        "x=filter(ldigit,n)\n",
        "print(sorted(x,key=ldigit))\n",
        "print(sorted(n,key=lambda a:a%10))"
      ],
      "metadata": {
        "colab": {
          "base_uri": "https://localhost:8080/"
        },
        "id": "xznzJLhN-S0H",
        "outputId": "5dc0deb6-6400-4030-8cf4-571214142737"
      },
      "execution_count": 70,
      "outputs": [
        {
          "output_type": "stream",
          "name": "stdout",
          "text": [
            "[21, 12, 22, 23, 34, 56, 66, 67, 98]\n",
            "[21, 12, 22, 23, 34, 56, 66, 67, 98]\n",
            "[21, 12, 22, 23, 34, 56, 66, 67, 98]\n"
          ]
        }
      ]
    },
    {
      "cell_type": "code",
      "source": [
        "students = [{\"gender\" : \"m\",\"age\" : 20,},{\"gender\" : \"f\",\"age\" : 21},{\"gender\" : \"m\",\"age\" : 22}]\n",
        "def isFemale(n):\n",
        "  if n['gender']=='f':\n",
        "    return True\n",
        "FemaleStudents = list(filter(isFemale, students))\n",
        "print(FemaleStudents)\n",
        "def isMale(m):\n",
        "  if m['gender']=='m':\n",
        "    return True\n",
        "print(list(filter(isMale,students)))"
      ],
      "metadata": {
        "colab": {
          "base_uri": "https://localhost:8080/"
        },
        "id": "GAT7n6iBGCdF",
        "outputId": "cebb1798-7915-4a12-f2d1-e0d224cc1848"
      },
      "execution_count": null,
      "outputs": [
        {
          "output_type": "stream",
          "name": "stdout",
          "text": [
            "[{'gender': 'f', 'age': 21}]\n",
            "[{'gender': 'm', 'age': 20}, {'gender': 'm', 'age': 22}]\n"
          ]
        }
      ]
    },
    {
      "cell_type": "code",
      "source": [
        "students = [{\"gender\" : \"m\",\"age\" : 20,},{\"gender\" : \"f\",\"age\" : 21},{\"gender\" : \"m\",\"age\" : 22}]\n",
        "def addage(n):\n",
        "  return n['age']+5\n",
        "for i in students:\n",
        "  print(addage(i))"
      ],
      "metadata": {
        "colab": {
          "base_uri": "https://localhost:8080/"
        },
        "id": "0MLKGjEtNVQ6",
        "outputId": "eb4f0171-76b8-40a0-b51d-b4f920d14b38"
      },
      "execution_count": null,
      "outputs": [
        {
          "output_type": "stream",
          "name": "stdout",
          "text": [
            "25\n",
            "26\n",
            "27\n"
          ]
        }
      ]
    },
    {
      "cell_type": "code",
      "source": [
        "students = [{\"gender\" : \"m\",\"age\" : 20,},{\"gender\" : \"f\",\"age\" : 21},{\"gender\" : \"m\",\"age\" : 22}]\n",
        "print(list(filter(lambda x:x['gender']=='m',students)))\n",
        "print(list(filter(lambda x:x['gender']=='f',students)))\n",
        "print(list(map(lambda x:x['age']+5,students)))\n",
        "print(list(map(lambda x:x['age']+5 if x['gender']=='m' else x['age']+10,students)))"
      ],
      "metadata": {
        "colab": {
          "base_uri": "https://localhost:8080/"
        },
        "id": "rcNNSKAANVVN",
        "outputId": "526a2727-54f2-41ab-9e4c-260a106430a0"
      },
      "execution_count": null,
      "outputs": [
        {
          "output_type": "stream",
          "name": "stdout",
          "text": [
            "[{'gender': 'm', 'age': 20}, {'gender': 'm', 'age': 22}]\n",
            "[{'gender': 'f', 'age': 21}]\n",
            "[25, 26, 27]\n",
            "[25, 31, 27]\n"
          ]
        }
      ]
    },
    {
      "cell_type": "code",
      "source": [
        "age = [25, 65, 82, 41, 33]\n",
        "x=list(filter(lambda a: a>60 or a<30,age))\n",
        "print(x)\n"
      ],
      "metadata": {
        "colab": {
          "base_uri": "https://localhost:8080/"
        },
        "id": "-dqbFtWhOJby",
        "outputId": "3b9cc82f-3138-4687-8e7e-ec13cf8aa3da"
      },
      "execution_count": null,
      "outputs": [
        {
          "output_type": "stream",
          "name": "stdout",
          "text": [
            "[25, 65, 82]\n"
          ]
        }
      ]
    },
    {
      "cell_type": "code",
      "source": [
        "gender = [\"M\", \"F\", \"F\", \"M\"]\n",
        "x=list(filter(lambda a:(a==\"M\"),gender))\n",
        "print(x)"
      ],
      "metadata": {
        "colab": {
          "base_uri": "https://localhost:8080/"
        },
        "id": "zlEf2gaTzKzv",
        "outputId": "45294623-9acf-4953-d1c0-f0a90642613d"
      },
      "execution_count": null,
      "outputs": [
        {
          "output_type": "stream",
          "name": "stdout",
          "text": [
            "['M', 'M']\n"
          ]
        }
      ]
    },
    {
      "cell_type": "code",
      "source": [
        "# kg in pound.\n",
        "weight_pounds = [173, 152, 205, 119, 250]\n",
        " \n",
        "weight_kg = list(map(lambda x: x/2, weight_pounds))\n",
        "print(weight_kg)"
      ],
      "metadata": {
        "colab": {
          "base_uri": "https://localhost:8080/"
        },
        "id": "sWNr_KSi0BXb",
        "outputId": "59c13043-9e7d-4fb8-b35a-325894ec4254"
      },
      "execution_count": null,
      "outputs": [
        {
          "output_type": "stream",
          "name": "stdout",
          "text": [
            "[86.5, 76.0, 102.5, 59.5, 125.0]\n"
          ]
        }
      ]
    },
    {
      "cell_type": "code",
      "source": [
        "weight_pounds = [173, 152, 205, 119, 250]\n",
        " \n",
        "weight_kg = list(map(lambda x: x%2, weight_pounds))\n",
        "print(weight_kg)"
      ],
      "metadata": {
        "colab": {
          "base_uri": "https://localhost:8080/"
        },
        "id": "SnC-uUnB_MBh",
        "outputId": "caade98d-43c0-48a5-cac1-0dc90cb731a2"
      },
      "execution_count": 71,
      "outputs": [
        {
          "output_type": "stream",
          "name": "stdout",
          "text": [
            "[1, 0, 1, 1, 0]\n"
          ]
        }
      ]
    },
    {
      "cell_type": "code",
      "source": [
        "weight_kg=[123,234,345,32,56,786]\n",
        "w=list(map(lambda x : round(x/2.2,2),weight_kg))\n",
        "print(w)"
      ],
      "metadata": {
        "colab": {
          "base_uri": "https://localhost:8080/"
        },
        "id": "BSHx560y0RE8",
        "outputId": "ce5e913f-a194-403b-c51e-ee797888f67d"
      },
      "execution_count": null,
      "outputs": [
        {
          "output_type": "stream",
          "name": "stdout",
          "text": [
            "[55.91, 106.36, 156.82, 14.55, 25.45, 357.27]\n"
          ]
        }
      ]
    },
    {
      "cell_type": "code",
      "source": [
        "import functools\n",
        "weight_kg=[123,234,345,32,56,1,786]\n",
        "print(functools.reduce(lambda x,y:(x if x<y else y),weight_kg))"
      ],
      "metadata": {
        "colab": {
          "base_uri": "https://localhost:8080/"
        },
        "id": "bXhFHUWv1IHd",
        "outputId": "24e9b03c-92a0-4e9a-b154-d6f2996be654"
      },
      "execution_count": null,
      "outputs": [
        {
          "output_type": "stream",
          "name": "stdout",
          "text": [
            "1\n"
          ]
        }
      ]
    },
    {
      "cell_type": "code",
      "source": [
        "import functools\n",
        "l=[123,12,34,567,89,43,23]\n",
        "print(functools.reduce(lambda x,y:x if x<y else y,l ))\n",
        "print(functools.reduce(lambda x,y:x if x>y  else y,l))"
      ],
      "metadata": {
        "colab": {
          "base_uri": "https://localhost:8080/"
        },
        "id": "7pFQY33lPgQe",
        "outputId": "bbe9300f-7556-4a03-8cd6-f24d4c9e4935"
      },
      "execution_count": null,
      "outputs": [
        {
          "output_type": "stream",
          "name": "stdout",
          "text": [
            "12\n",
            "567\n"
          ]
        }
      ]
    },
    {
      "cell_type": "code",
      "source": [
        "import functools\n",
        "l=[123,12,34,567,89,43,23]\n",
        "def add(x,y):\n",
        "  return x+y\n",
        "print(functools.reduce(add,l))\n",
        "print(functools.reduce(lambda x,y:x+y,l))"
      ],
      "metadata": {
        "colab": {
          "base_uri": "https://localhost:8080/"
        },
        "id": "fRTqrX1hQGum",
        "outputId": "adf826a7-f555-4f35-ef6d-06a20fc26cd5"
      },
      "execution_count": null,
      "outputs": [
        {
          "output_type": "stream",
          "name": "stdout",
          "text": [
            "891\n",
            "891\n"
          ]
        }
      ]
    },
    {
      "cell_type": "code",
      "source": [
        "#find all a's in the given string\n",
        "string='tday is monday'\n",
        "c='a'\n",
        "for i in string:\n",
        "  if i in c:\n",
        "    print(i)"
      ],
      "metadata": {
        "colab": {
          "base_uri": "https://localhost:8080/"
        },
        "id": "10zyFWnpQ_je",
        "outputId": "3a3f6e96-9453-496f-d674-6de47d913b23"
      },
      "execution_count": null,
      "outputs": [
        {
          "output_type": "stream",
          "name": "stdout",
          "text": [
            "a\n",
            "a\n"
          ]
        }
      ]
    },
    {
      "cell_type": "code",
      "source": [
        "#find all a's in the given string\n",
        "string='tday is monday'\n",
        "print(''.join(list(filter(lambda x:x=='a',string))))"
      ],
      "metadata": {
        "colab": {
          "base_uri": "https://localhost:8080/"
        },
        "id": "NYb8MiucRevl",
        "outputId": "310e0187-003c-4480-d922-230e337b6a8a"
      },
      "execution_count": null,
      "outputs": [
        {
          "output_type": "stream",
          "name": "stdout",
          "text": [
            "aa\n"
          ]
        }
      ]
    },
    {
      "cell_type": "code",
      "source": [
        "import functools\n",
        "large_vale=[231,231,342,453,564,543,673,123,234,999]\n",
        "print(functools.reduce(lambda a,b : (b if a<b else a),large_vale))"
      ],
      "metadata": {
        "colab": {
          "base_uri": "https://localhost:8080/"
        },
        "id": "5KzysFSh2BOj",
        "outputId": "18860b0b-fc85-45ce-cb48-0eff0471ae97"
      },
      "execution_count": null,
      "outputs": [
        {
          "output_type": "stream",
          "name": "stdout",
          "text": [
            "999\n"
          ]
        }
      ]
    },
    {
      "cell_type": "code",
      "source": [
        "DS19 = \"DS19 is in the 13th Week of Python\"\n",
        "print(''.join(list(filter(lambda x:x in 'aeiouAEIOU',DS19))))\n",
        "print(''.join(list(filter(lambda x:x not in 'aeiouAEIOU',DS19))))"
      ],
      "metadata": {
        "colab": {
          "base_uri": "https://localhost:8080/"
        },
        "id": "Qkw2MrsZSBCH",
        "outputId": "92bdc842-5ae2-4d9b-8e3a-5ed89ef26f7a"
      },
      "execution_count": null,
      "outputs": [
        {
          "output_type": "stream",
          "name": "stdout",
          "text": [
            "iieeeoo\n",
            "DS19 s n th 13th Wk f Pythn\n"
          ]
        }
      ]
    },
    {
      "cell_type": "code",
      "source": [
        "DS19 = \"DS19 is in the 13th Week of Python\"\n",
        "c='AEIOUaeiou'\n",
        "print(''.join(list(filter(lambda x :x in c,DS19))))\n",
        "print(''.join(list(filter(lambda x :x not in c,DS19))))"
      ],
      "metadata": {
        "colab": {
          "base_uri": "https://localhost:8080/"
        },
        "id": "YoVzWMuJAP1X",
        "outputId": "df06ffa7-3605-4aaa-98e5-f6b93bdb9af4"
      },
      "execution_count": 73,
      "outputs": [
        {
          "output_type": "stream",
          "name": "stdout",
          "text": [
            "iieeeoo\n",
            "DS19 s n th 13th Wk f Pythn\n"
          ]
        }
      ]
    },
    {
      "cell_type": "code",
      "source": [
        "import re\n",
        "DS19 = \"DS19 is in the 13th Week of Python\"\n",
        "\n",
        "result=re.match('D',DS19)\n",
        "print(result)\n",
        "print(re.match('rajitha','Rajitha Ramineni'))\n",
        "print(re.match('Rajitha','Rajitha Ramineni'))\n",
        "print(re.search('R','Rajitha Ramineni'))\n",
        "print(re.findall('R','Rajitha Ramineni'))\n",
        "print(list(re.finditer('R','Rajitha Ramineni')))"
      ],
      "metadata": {
        "colab": {
          "base_uri": "https://localhost:8080/"
        },
        "id": "ueIRlNKe41fi",
        "outputId": "fdd25939-e774-4ea2-ed65-80de21c0cb53"
      },
      "execution_count": 76,
      "outputs": [
        {
          "output_type": "stream",
          "name": "stdout",
          "text": [
            "<re.Match object; span=(0, 1), match='D'>\n",
            "None\n",
            "<re.Match object; span=(0, 7), match='Rajitha'>\n",
            "<re.Match object; span=(0, 1), match='R'>\n",
            "['R', 'R']\n",
            "[<re.Match object; span=(0, 1), match='R'>, <re.Match object; span=(8, 9), match='R'>]\n"
          ]
        }
      ]
    },
    {
      "cell_type": "code",
      "source": [
        "name='Rajitha Ramineni'\n",
        "x=re.search('Raji',name)\n",
        "if x!=None:\n",
        "  print(x.start())\n",
        "  print(x.end())\n",
        "  print(x.start(),x.end())\n",
        "  print(name[x.start():x.end()])\n",
        "  print(x)"
      ],
      "metadata": {
        "colab": {
          "base_uri": "https://localhost:8080/"
        },
        "id": "Vqa8-ezmWxQq",
        "outputId": "e24247da-4b6b-4739-bc3b-a0ef50853b77"
      },
      "execution_count": 75,
      "outputs": [
        {
          "output_type": "stream",
          "name": "stdout",
          "text": [
            "0\n",
            "4\n",
            "0 4\n",
            "Raji\n",
            "<re.Match object; span=(0, 4), match='Raji'>\n"
          ]
        }
      ]
    },
    {
      "cell_type": "code",
      "source": [
        "res=re.search('in',DS19)\n",
        "print(res)\n",
        "print(DS19[res.start():res.end()])"
      ],
      "metadata": {
        "colab": {
          "base_uri": "https://localhost:8080/"
        },
        "id": "sZauYTFV8Pzh",
        "outputId": "1aa40e79-0a2c-422f-dd99-d88a9079aa48"
      },
      "execution_count": 79,
      "outputs": [
        {
          "output_type": "stream",
          "name": "stdout",
          "text": [
            "<re.Match object; span=(8, 10), match='in'>\n",
            "in\n"
          ]
        }
      ]
    },
    {
      "cell_type": "code",
      "source": [
        "DS19 = \"DS19 is in the 13th Week of Python!\"\n",
        "print(re.findall('[^\\w]',DS19))\n",
        "print(re.findall('^[\\w]',DS19))\n",
        "print(re.findall('^[\\W]',DS19))\n",
        "print(re.findall('[^\\W]',DS19))\n",
        "print(re.findall('[\\W]',DS19))\n",
        "print(re.findall('[\\d]',DS19))\n",
        "print(re.findall('^[\\D]',DS19))\n",
        "print(re.findall('.',DS19))"
      ],
      "metadata": {
        "colab": {
          "base_uri": "https://localhost:8080/"
        },
        "id": "6RVKd1CG8t9U",
        "outputId": "8fdfb49d-06d8-4328-9e6d-419ac88ae70b"
      },
      "execution_count": 84,
      "outputs": [
        {
          "output_type": "stream",
          "name": "stdout",
          "text": [
            "[' ', ' ', ' ', ' ', ' ', ' ', ' ', '!']\n",
            "['D']\n",
            "[]\n",
            "['D', 'S', '1', '9', 'i', 's', 'i', 'n', 't', 'h', 'e', '1', '3', 't', 'h', 'W', 'e', 'e', 'k', 'o', 'f', 'P', 'y', 't', 'h', 'o', 'n']\n",
            "[' ', ' ', ' ', ' ', ' ', ' ', ' ', '!']\n",
            "['1', '9', '1', '3']\n",
            "['D']\n",
            "['D', 'S', '1', '9', ' ', 'i', 's', ' ', 'i', 'n', ' ', 't', 'h', 'e', ' ', '1', '3', 't', 'h', ' ', 'W', 'e', 'e', 'k', ' ', 'o', 'f', ' ', 'P', 'y', 't', 'h', 'o', 'n', '!']\n"
          ]
        }
      ]
    },
    {
      "cell_type": "code",
      "source": [
        "salary='1,23,456'\n",
        "print(list(re.finditer('[^,]',salary)))"
      ],
      "metadata": {
        "colab": {
          "base_uri": "https://localhost:8080/"
        },
        "id": "0g9oJPaUZy7C",
        "outputId": "30be6ecb-9809-43ac-c5ca-0abacd8c926a"
      },
      "execution_count": null,
      "outputs": [
        {
          "output_type": "stream",
          "name": "stdout",
          "text": [
            "[<re.Match object; span=(0, 1), match='1'>, <re.Match object; span=(2, 3), match='2'>, <re.Match object; span=(3, 4), match='3'>, <re.Match object; span=(5, 6), match='4'>, <re.Match object; span=(6, 7), match='5'>, <re.Match object; span=(7, 8), match='6'>]\n"
          ]
        }
      ]
    },
    {
      "cell_type": "code",
      "source": [
        "salary='1,2,23,45,456,789,1234,3456'\n",
        "print(int(''.join(salary.split(','))))\n",
        "print(re.findall('\\d',salary))\n",
        "print(re.findall('\\d+',salary))\n",
        "print(re.findall('\\d.{2}',salary))\n",
        "print(re.findall('\\d{2}',salary))\n"
      ],
      "metadata": {
        "colab": {
          "base_uri": "https://localhost:8080/"
        },
        "id": "hgmpf2PFcd4W",
        "outputId": "8d9bfff0-f723-40ab-b265-6b5c00dd78b4"
      },
      "execution_count": 89,
      "outputs": [
        {
          "output_type": "stream",
          "name": "stdout",
          "text": [
            "12234545678912343456\n",
            "['1', '2', '2', '3', '4', '5', '4', '5', '6', '7', '8', '9', '1', '2', '3', '4', '3', '4', '5', '6']\n",
            "['1', '2', '23', '45', '456', '789', '1234', '3456']\n",
            "['1,2', '23,', '45,', '456', '789', '123', '4,3', '456']\n",
            "['23', '45', '45', '78', '12', '34', '34', '56']\n"
          ]
        }
      ]
    },
    {
      "cell_type": "code",
      "source": [
        "DS19 = \"DS19 is in the 13th Week of Python 99\"\n",
        "print(re.findall('[\\d+*]',DS19))\n",
        "print(re.findall('[\\d+]',DS19))\n",
        "print(re.findall('\\d+',DS19))\n",
        "x=re.compile('[\\d+*]')\n",
        "print(x)\n",
        "print(x.search('19'))\n",
        "print(x.match('DS19'))\n",
        "print(x.match('19'))\n"
      ],
      "metadata": {
        "colab": {
          "base_uri": "https://localhost:8080/"
        },
        "id": "XfhAT02SdPYA",
        "outputId": "9553c98e-7d45-46f5-fb70-129ddfe763b5"
      },
      "execution_count": 91,
      "outputs": [
        {
          "output_type": "stream",
          "name": "stdout",
          "text": [
            "['1', '9', '1', '3', '9', '9']\n",
            "['1', '9', '1', '3', '9', '9']\n",
            "['19', '13', '99']\n",
            "re.compile('[\\\\d+*]')\n",
            "<re.Match object; span=(0, 1), match='1'>\n",
            "None\n",
            "<re.Match object; span=(0, 1), match='1'>\n"
          ]
        }
      ]
    },
    {
      "cell_type": "code",
      "source": [
        "DS19 = \"DS19 is in the 13th Week of Python\"\n",
        "for i in DS19:\n",
        "  if re.search('^[\\d]',i):\n",
        "    print(re.search('\\d',i))"
      ],
      "metadata": {
        "colab": {
          "base_uri": "https://localhost:8080/"
        },
        "id": "KGtfrzgAisth",
        "outputId": "d5f69634-c3ea-4927-d2ec-d4938f2930a4"
      },
      "execution_count": null,
      "outputs": [
        {
          "output_type": "stream",
          "name": "stdout",
          "text": [
            "<re.Match object; span=(0, 1), match='1'>\n",
            "<re.Match object; span=(0, 1), match='9'>\n",
            "<re.Match object; span=(0, 1), match='1'>\n",
            "<re.Match object; span=(0, 1), match='3'>\n"
          ]
        }
      ]
    },
    {
      "cell_type": "code",
      "source": [
        "DS19 = \"DS19 is in the 13th Week of Python3\"\n",
        "print(re.search('\\d$',DS19))\n",
        "print(re.findall('\\d$',DS19))\n",
        "print(re.findall('\\w$',DS19))\n",
        "print(re.findall(r'\\W$',DS19))"
      ],
      "metadata": {
        "colab": {
          "base_uri": "https://localhost:8080/"
        },
        "id": "3DiQzvwLkxBg",
        "outputId": "7f892475-9050-4ea9-ddc6-be52a0eb6bfd"
      },
      "execution_count": 92,
      "outputs": [
        {
          "output_type": "stream",
          "name": "stdout",
          "text": [
            "<re.Match object; span=(34, 35), match='3'>\n",
            "['3']\n",
            "['3']\n",
            "[]\n"
          ]
        }
      ]
    },
    {
      "cell_type": "code",
      "source": [
        "DS19 = \"DS19 is in the 13th Week of Python\"\n",
        "print(re.search(r'\\bi\\w+',DS19))\n",
        "print(re.search(r'\\bD\\w',DS19))\n",
        "print(re.findall(r'\\bi',DS19))\n",
        "print(re.search(r'\\b13',DS19).span())\n",
        "print(re.search(r'\\sW',DS19))\n",
        "print(re.search(r'\\bW',DS19))\n"
      ],
      "metadata": {
        "colab": {
          "base_uri": "https://localhost:8080/"
        },
        "id": "rQgIZBXsmAoT",
        "outputId": "473efe3a-52d3-4908-b8f0-f42330981ed6"
      },
      "execution_count": null,
      "outputs": [
        {
          "output_type": "stream",
          "name": "stdout",
          "text": [
            "<re.Match object; span=(5, 7), match='is'>\n",
            "<re.Match object; span=(0, 2), match='DS'>\n",
            "['i', 'i']\n",
            "(15, 17)\n",
            "<re.Match object; span=(19, 21), match=' W'>\n",
            "<re.Match object; span=(20, 21), match='W'>\n"
          ]
        }
      ]
    },
    {
      "cell_type": "code",
      "source": [
        "d=r'R:\\bajitha\\nRamineni'\n",
        "print(d)"
      ],
      "metadata": {
        "colab": {
          "base_uri": "https://localhost:8080/"
        },
        "id": "jm5LucksrwrN",
        "outputId": "df85a667-1224-4e07-d930-cc869d51eae5"
      },
      "execution_count": null,
      "outputs": [
        {
          "output_type": "stream",
          "name": "stdout",
          "text": [
            "R:\\bajitha\\nRamineni\n"
          ]
        }
      ]
    },
    {
      "cell_type": "code",
      "source": [
        "d='R:\\bajitha\\nRamineni'\n",
        "print(d)"
      ],
      "metadata": {
        "colab": {
          "base_uri": "https://localhost:8080/"
        },
        "id": "b-ibvo5TsYoy",
        "outputId": "4ffb14ad-3333-4af3-ec29-b1da0aea43c3"
      },
      "execution_count": null,
      "outputs": [
        {
          "output_type": "stream",
          "name": "stdout",
          "text": [
            "R:\bajitha\n",
            "Ramineni\n"
          ]
        }
      ]
    },
    {
      "cell_type": "code",
      "source": [
        "pan='abcd1234ab'\n",
        "print(re.search('\\w{4}\\d{4}\\w',pan))\n",
        "print(re.search('\\w{4}\\d{4}[a-z]',pan))"
      ],
      "metadata": {
        "colab": {
          "base_uri": "https://localhost:8080/"
        },
        "id": "Y2x7JE0xtKzb",
        "outputId": "53d3c974-3f64-4f2d-d810-606da8b85da8"
      },
      "execution_count": null,
      "outputs": [
        {
          "output_type": "stream",
          "name": "stdout",
          "text": [
            "<re.Match object; span=(0, 9), match='abcd1234a'>\n",
            "<re.Match object; span=(0, 9), match='abcd1234a'>\n"
          ]
        }
      ]
    },
    {
      "cell_type": "code",
      "source": [
        "print(re.search('\\d[a-z]{3}\\d{2}[A-Z]{2}\\d','12asd12AS123'))\n",
        "print(re.search('\\d[a-z]{3}\\d{2}[A-Z]{2}\\d','1asd12AS123'))\n",
        "print(re.search('\\d{2}[a-z]{3}\\d{2}[A-Z]{2}\\d','12asd12AS123'))\n",
        "print(re.search('\\d{2}[a-z]{3}\\d{2}[A-Z]{2}\\d{2}','12asd12AS123'))\n",
        "print(re.search('\\d{2}[a-z]{3}\\d{2}[A-Z]{2}\\d{2}','123sd12AS123'))\n",
        "print(re.search('\\d{2}[a-z]{3}\\d{2}[A-Z]{2}\\d{2}','12asd12AS1O'))\n",
        "print(re.search('\\d{2}[a-z]{3}\\d{2}[A-Z]{2}\\d{2}','12asd12AS10'))"
      ],
      "metadata": {
        "colab": {
          "base_uri": "https://localhost:8080/"
        },
        "id": "LSU7RtRWt7Td",
        "outputId": "89e59eed-1e2e-4940-dfd9-5def91aa0421"
      },
      "execution_count": null,
      "outputs": [
        {
          "output_type": "stream",
          "name": "stdout",
          "text": [
            "<re.Match object; span=(1, 10), match='2asd12AS1'>\n",
            "<re.Match object; span=(0, 9), match='1asd12AS1'>\n",
            "<re.Match object; span=(0, 10), match='12asd12AS1'>\n",
            "<re.Match object; span=(0, 11), match='12asd12AS12'>\n",
            "None\n",
            "None\n",
            "<re.Match object; span=(0, 11), match='12asd12AS10'>\n"
          ]
        }
      ]
    },
    {
      "cell_type": "code",
      "source": [
        "x=re.search('([a-z]{4})(\\d{2})([a-z]{4})(\\d{3})','raji09rami123')\n",
        "print(x)\n",
        "print(x.groups())\n",
        "print(x.group(0))\n",
        "print(x.group(1))\n",
        "print(x.group(2))\n",
        "print(x.group(3))\n",
        "print(x.group(4))"
      ],
      "metadata": {
        "colab": {
          "base_uri": "https://localhost:8080/"
        },
        "id": "qRS3RfaTjRzI",
        "outputId": "91ad9aea-e028-4940-b6a6-dec73b22ca01"
      },
      "execution_count": 93,
      "outputs": [
        {
          "output_type": "stream",
          "name": "stdout",
          "text": [
            "<re.Match object; span=(0, 13), match='raji09rami123'>\n",
            "('raji', '09', 'rami', '123')\n",
            "raji09rami123\n",
            "raji\n",
            "09\n",
            "rami\n",
            "123\n"
          ]
        }
      ]
    },
    {
      "cell_type": "code",
      "source": [
        "print(re.search('(a|b)c','aacbc'))\n",
        "print(re.search('(a|b)c','aacbc').groups())\n",
        "w1='from'\n",
        "w2='to'\n",
        "data1=' toabc'\n",
        "data='fromabc'\n",
        "print(re.search('(from|to)abc',data1))\n",
        "print(re.search('(from|to)abc',data))\n",
        "print(re.search(w1+'|'+w2,data1).span())"
      ],
      "metadata": {
        "colab": {
          "base_uri": "https://localhost:8080/"
        },
        "id": "SYFPcC1vwcmz",
        "outputId": "3dcef38b-c595-4ad3-9a52-5a347f6f3fd9"
      },
      "execution_count": null,
      "outputs": [
        {
          "output_type": "stream",
          "name": "stdout",
          "text": [
            "<re.Match object; span=(1, 3), match='ac'>\n",
            "('a',)\n",
            "<re.Match object; span=(1, 6), match='toabc'>\n",
            "<re.Match object; span=(0, 7), match='fromabc'>\n",
            "(1, 3)\n"
          ]
        }
      ]
    },
    {
      "cell_type": "code",
      "source": [
        "# or |\n",
        "a='abcd@aabc123'\n",
        "print(re.search('\\w+@\\w+\\d',a))\n",
        "print(re.search('\\w{4}|@',a))\n",
        "print(re.search('(a|b)c','aacbc'))\n",
        "print(re.findall('(a|b)c','bcaac'))\n",
        "print(re.findall('((a|b)c)','bcaac'))\n",
        "print(re.search('(a|b)c','bcaac').group(0))\n",
        "print(re.search('(a|b)c','bcaac').group(1))\n"
      ],
      "metadata": {
        "colab": {
          "base_uri": "https://localhost:8080/"
        },
        "id": "h1tTAIxU21CW",
        "outputId": "87772ccc-2e4d-4e12-f38b-21dafd106278"
      },
      "execution_count": null,
      "outputs": [
        {
          "output_type": "stream",
          "name": "stdout",
          "text": [
            "<re.Match object; span=(0, 12), match='abcd@aabc123'>\n",
            "<re.Match object; span=(0, 4), match='abcd'>\n",
            "<re.Match object; span=(1, 3), match='ac'>\n",
            "['b', 'a']\n",
            "[('bc', 'b'), ('ac', 'a')]\n",
            "bc\n",
            "b\n"
          ]
        }
      ]
    },
    {
      "cell_type": "code",
      "source": [
        "print(re.search('(a|c)b','abbcb'))\n",
        "print(re.findall('((a|c)b)','abbcb'))\n",
        "print(re.findall('(a|c)b','abbcb'))\n",
        "print(re.findall('((a|c)b)','abbcb'))\n",
        "print(re.findall('\\w+@(\\w+)\\.\\w+','abc@xyz.com'))\n",
        "print(re.findall('(\\w+@\\w+\\.(\\w+))','abc@xyz.com'))"
      ],
      "metadata": {
        "colab": {
          "base_uri": "https://localhost:8080/"
        },
        "id": "KdiVv8KY4zPX",
        "outputId": "472e0331-9806-4ea5-8eb2-dce4e97fd7cd"
      },
      "execution_count": null,
      "outputs": [
        {
          "output_type": "stream",
          "name": "stdout",
          "text": [
            "<re.Match object; span=(0, 2), match='ab'>\n",
            "[('ab', 'a'), ('cb', 'c')]\n",
            "['a', 'c']\n",
            "[('ab', 'a'), ('cb', 'c')]\n",
            "['xyz']\n",
            "[('abc@xyz.com', 'com')]\n"
          ]
        }
      ]
    },
    {
      "cell_type": "code",
      "source": [
        "#split\n",
        "s='This is ds19 python advance level 99'\n",
        "print(s.split('is'))\n",
        "print(re.split('[^\\d]',s))\n",
        "print(s.split('19'))\n",
        "print(re.split('\\d',s))"
      ],
      "metadata": {
        "colab": {
          "base_uri": "https://localhost:8080/"
        },
        "id": "E__rRaqvy7M_",
        "outputId": "c623c842-4385-4b1b-daa2-49ef2dadb5b1"
      },
      "execution_count": null,
      "outputs": [
        {
          "output_type": "stream",
          "name": "stdout",
          "text": [
            "['Th', ' ', ' ds19 python advance level 99']\n",
            "['', '', '', '', '', '', '', '', '', '', '19', '', '', '', '', '', '', '', '', '', '', '', '', '', '', '', '', '', '', '', '', '', '99']\n",
            "['This is ds', ' python advance level 99']\n",
            "['This is ds', '', ' python advance level ', '', '']\n"
          ]
        }
      ]
    },
    {
      "cell_type": "code",
      "source": [
        "date='10-12-1991'\n",
        "r=re.split('\\D',date)\n",
        "print(r)\n",
        "print(re.split('[^\\d]',date))\n",
        "print(re.split('\\D',date,maxsplit=2))"
      ],
      "metadata": {
        "colab": {
          "base_uri": "https://localhost:8080/"
        },
        "id": "lSXvWucoz0TV",
        "outputId": "1a5f0f5c-1b3b-4949-fc87-edb977c5d70a"
      },
      "execution_count": null,
      "outputs": [
        {
          "output_type": "stream",
          "name": "stdout",
          "text": [
            "['10', '12', '1991']\n",
            "['10', '12', '1991']\n",
            "['10', '12', '1991']\n"
          ]
        }
      ]
    },
    {
      "cell_type": "code",
      "source": [
        "p='adsfgfhfghfgdf'\n",
        "print(re.sub('gfhf','RAJI',p))"
      ],
      "metadata": {
        "colab": {
          "base_uri": "https://localhost:8080/"
        },
        "id": "Y7ZkILg40QTf",
        "outputId": "c6b88b08-f439-411d-8284-aab631fe4719"
      },
      "execution_count": null,
      "outputs": [
        {
          "output_type": "stream",
          "name": "stdout",
          "text": [
            "adsfRAJIghfgdf\n"
          ]
        }
      ]
    },
    {
      "cell_type": "code",
      "source": [
        "mv='435 egf fgf 565fhg fh'\n",
        "print(re.sub('\\d{3}','SHANAYA',mv))\n",
        "print(re.sub('[^\\w]','0',mv))\n",
        "print(re.sub('[a-z]','',mv))"
      ],
      "metadata": {
        "colab": {
          "base_uri": "https://localhost:8080/"
        },
        "id": "GJj_eA1M0fAT",
        "outputId": "5adf4345-600f-48eb-cc5b-70bec7e41bd8"
      },
      "execution_count": null,
      "outputs": [
        {
          "output_type": "stream",
          "name": "stdout",
          "text": [
            "SHANAYA egf fgf SHANAYAfhg fh\n",
            "4350egf0fgf0565fhg0fh\n",
            "435   565 \n"
          ]
        }
      ]
    },
    {
      "cell_type": "markdown",
      "source": [
        "##Numpy"
      ],
      "metadata": {
        "id": "u5c8FtHW90ad"
      }
    },
    {
      "cell_type": "code",
      "source": [
        "a=[1,2,3,4,5]\n",
        "b=[2,3,4,5,6]\n",
        "print(a+b)\n",
        "for i in zip(a,b):\n",
        "  print(i,sum(i))"
      ],
      "metadata": {
        "colab": {
          "base_uri": "https://localhost:8080/"
        },
        "id": "F9r0BmZP9zp9",
        "outputId": "0d41959d-5859-4f4e-b62d-eb3ad49b9d3f"
      },
      "execution_count": null,
      "outputs": [
        {
          "output_type": "stream",
          "name": "stdout",
          "text": [
            "[1, 2, 3, 4, 5, 2, 3, 4, 5, 6]\n",
            "(1, 2) 3\n",
            "(2, 3) 5\n",
            "(3, 4) 7\n",
            "(4, 5) 9\n",
            "(5, 6) 11\n"
          ]
        }
      ]
    },
    {
      "cell_type": "code",
      "source": [
        "import numpy as np\n",
        "a=[1,2,3,4,5]\n",
        "x=np.array(a)\n",
        "print(a,type(a),type(x))"
      ],
      "metadata": {
        "colab": {
          "base_uri": "https://localhost:8080/"
        },
        "id": "WmKgvpuX-gg0",
        "outputId": "b386b8af-3fcb-46a4-dbc0-5c0defbe4486"
      },
      "execution_count": null,
      "outputs": [
        {
          "output_type": "stream",
          "name": "stdout",
          "text": [
            "[1, 2, 3, 4, 5] <class 'list'> <class 'numpy.ndarray'>\n"
          ]
        }
      ]
    },
    {
      "cell_type": "code",
      "source": [
        "a=np.array(5)\n",
        "print(a,type(a),a.ndim,a.shape,a.size)\n",
        "a=np.array([1,2,3])\n",
        "print(a,type(a),a.ndim,a.shape,a.size)\n",
        "a=np.array([[1,2,3],[4,5,6]])\n",
        "print(a,type(a),a.ndim,a.shape,a.size)\n",
        "a=np.array([[1,2,3],[4,5,6]])\n",
        "a=a.T\n",
        "print(a,type(a),a.ndim,a.shape,a.size)\n"
      ],
      "metadata": {
        "colab": {
          "base_uri": "https://localhost:8080/"
        },
        "id": "gtkCaKk5_VMH",
        "outputId": "2ffefe45-4c59-4c85-c5ef-fd31ed3f0044"
      },
      "execution_count": null,
      "outputs": [
        {
          "output_type": "stream",
          "name": "stdout",
          "text": [
            "5 <class 'numpy.ndarray'> 0 () 1\n",
            "[1 2 3] <class 'numpy.ndarray'> 1 (3,) 3\n",
            "[[1 2 3]\n",
            " [4 5 6]] <class 'numpy.ndarray'> 2 (2, 3) 6\n",
            "[[1 4]\n",
            " [2 5]\n",
            " [3 6]] <class 'numpy.ndarray'> 2 (3, 2) 6\n"
          ]
        }
      ]
    },
    {
      "cell_type": "code",
      "source": [
        "a=np.array([[1,2,3],[4,5,6],[7,8,9]])\n",
        "print(a,a.ndim,a.shape,a.size)\n"
      ],
      "metadata": {
        "colab": {
          "base_uri": "https://localhost:8080/"
        },
        "id": "YX70UVVyAv59",
        "outputId": "e600e206-ebd6-46da-ce09-691811a477e6"
      },
      "execution_count": null,
      "outputs": [
        {
          "output_type": "stream",
          "name": "stdout",
          "text": [
            "[[1 2 3]\n",
            " [4 5 6]\n",
            " [7 8 9]] 2 (3, 3) 9\n"
          ]
        }
      ]
    },
    {
      "cell_type": "code",
      "source": [
        "a=np.matrix([1,2,3])\n",
        "print(a,type(a),a.ndim,a.shape,a.size)\n",
        "a=[[1,2,3],[4,5,6],[7,8,9]]\n",
        "print(a,type(a))\n",
        "na=np.array(a)\n",
        "print(na,type(na),na.ndim,na.shape,na.size,sum(na))"
      ],
      "metadata": {
        "colab": {
          "base_uri": "https://localhost:8080/"
        },
        "id": "KotMTWq6BFQM",
        "outputId": "5d21f106-285a-4610-e63c-1955dd0be261"
      },
      "execution_count": null,
      "outputs": [
        {
          "output_type": "stream",
          "name": "stdout",
          "text": [
            "[[1 2 3]] <class 'numpy.matrix'> 2 (1, 3) 3\n",
            "[[1, 2, 3], [4, 5, 6], [7, 8, 9]] <class 'list'>\n",
            "[[1 2 3]\n",
            " [4 5 6]\n",
            " [7 8 9]] <class 'numpy.ndarray'> 2 (3, 3) 9 [12 15 18]\n"
          ]
        }
      ]
    },
    {
      "cell_type": "code",
      "source": [
        "a=np.ones((3,3),dtype=np.int8)\n",
        "print(a,type(a),a.ndim,a.shape,a.size,a.dtype)"
      ],
      "metadata": {
        "colab": {
          "base_uri": "https://localhost:8080/"
        },
        "id": "aAZupmWxDD2X",
        "outputId": "e0e05ad4-2356-4966-ad02-84af22561a0c"
      },
      "execution_count": null,
      "outputs": [
        {
          "output_type": "stream",
          "name": "stdout",
          "text": [
            "[[1 1 1]\n",
            " [1 1 1]\n",
            " [1 1 1]] <class 'numpy.ndarray'> 2 (3, 3) 9 int8\n"
          ]
        }
      ]
    },
    {
      "cell_type": "code",
      "source": [
        "import numpy as np\n",
        "a=np.full((3,3),10,dtype=np.int8)\n",
        "print(a,type(a),a.ndim,a.shape,a.size,a.dtype)"
      ],
      "metadata": {
        "colab": {
          "base_uri": "https://localhost:8080/"
        },
        "id": "du2EF9e5DXfK",
        "outputId": "95abcef9-6471-49c3-b541-02acda1869a4"
      },
      "execution_count": null,
      "outputs": [
        {
          "output_type": "stream",
          "name": "stdout",
          "text": [
            "[[10 10 10]\n",
            " [10 10 10]\n",
            " [10 10 10]] <class 'numpy.ndarray'> 2 (3, 3) 9 int8\n"
          ]
        }
      ]
    },
    {
      "cell_type": "code",
      "source": [
        "print(list(range(10)))\n",
        "print(list(range(10,20)))\n",
        "print(list(range(10,20,2)))"
      ],
      "metadata": {
        "colab": {
          "base_uri": "https://localhost:8080/"
        },
        "id": "0RwnJP43J3Om",
        "outputId": "730cf121-b5bf-46f2-e531-afb98e1adfd2"
      },
      "execution_count": null,
      "outputs": [
        {
          "output_type": "stream",
          "name": "stdout",
          "text": [
            "[0, 1, 2, 3, 4, 5, 6, 7, 8, 9]\n",
            "[10, 11, 12, 13, 14, 15, 16, 17, 18, 19]\n",
            "[10, 12, 14, 16, 18]\n"
          ]
        }
      ]
    },
    {
      "cell_type": "code",
      "source": [
        "print(np.arange(10))\n",
        "print(np.arange(10,20))\n",
        "print(np.arange(10,20,2))\n",
        "print(np.linspace(10,20,5))\n",
        "print(np.linspace(10,20,5,retstep=True))\n",
        "print(np.linspace(10,20,5,retstep=True,axis=0))"
      ],
      "metadata": {
        "colab": {
          "base_uri": "https://localhost:8080/"
        },
        "id": "sAZb_nyjKMn9",
        "outputId": "e1af20f7-6fa2-472a-8758-40b3bac716a3"
      },
      "execution_count": null,
      "outputs": [
        {
          "output_type": "stream",
          "name": "stdout",
          "text": [
            "[0 1 2 3 4 5 6 7 8 9]\n",
            "[10 11 12 13 14 15 16 17 18 19]\n",
            "[10 12 14 16 18]\n",
            "[10.  12.5 15.  17.5 20. ]\n",
            "(array([10. , 12.5, 15. , 17.5, 20. ]), 2.5)\n",
            "(array([10. , 12.5, 15. , 17.5, 20. ]), 2.5)\n"
          ]
        }
      ]
    },
    {
      "cell_type": "code",
      "source": [
        "import random\n",
        "print(np.random.random((3,4)))\n",
        "x=np.random.random((3,4))\n",
        "print(x)\n",
        "x= x * 100\n",
        "print(x)"
      ],
      "metadata": {
        "colab": {
          "base_uri": "https://localhost:8080/"
        },
        "id": "VCly_B2pLnXA",
        "outputId": "fdcffbde-6373-4f02-c9fd-ae8bc2f6851f"
      },
      "execution_count": null,
      "outputs": [
        {
          "output_type": "stream",
          "name": "stdout",
          "text": [
            "[[0.76606818 0.01593613 0.1103764  0.63494256]\n",
            " [0.28002265 0.38706684 0.72953357 0.04343578]\n",
            " [0.46494684 0.34681075 0.79546856 0.26527949]]\n",
            "[[0.59510497 0.81214601 0.47126511 0.42593077]\n",
            " [0.8529144  0.91322387 0.80601402 0.68772461]\n",
            " [0.81634649 0.05720616 0.01777413 0.62732758]]\n",
            "[[59.51049671 81.21460106 47.12651094 42.5930772 ]\n",
            " [85.29144024 91.32238656 80.60140188 68.77246139]\n",
            " [81.63464853  5.72061628  1.77741339 62.73275804]]\n"
          ]
        }
      ]
    },
    {
      "cell_type": "code",
      "source": [
        "for i in range(10):\n",
        "  print(np.random.randint(10))"
      ],
      "metadata": {
        "colab": {
          "base_uri": "https://localhost:8080/"
        },
        "id": "m4cJhqbPag5M",
        "outputId": "9a0ebea2-d89e-4ad6-ab0d-aeb94c207dfb"
      },
      "execution_count": null,
      "outputs": [
        {
          "output_type": "stream",
          "name": "stdout",
          "text": [
            "6\n",
            "8\n",
            "8\n",
            "8\n",
            "2\n",
            "9\n",
            "3\n",
            "5\n",
            "4\n",
            "6\n"
          ]
        }
      ]
    },
    {
      "cell_type": "code",
      "source": [
        "for i in range(10):\n",
        "  print(np.random.randint(10,20),end=' ')"
      ],
      "metadata": {
        "colab": {
          "base_uri": "https://localhost:8080/"
        },
        "id": "a1cv4LMBa0Hr",
        "outputId": "d7ad963a-d865-4f12-9015-7c425c98cb3c"
      },
      "execution_count": null,
      "outputs": [
        {
          "output_type": "stream",
          "name": "stdout",
          "text": [
            "19 11 18 18 17 14 10 14 15 13 "
          ]
        }
      ]
    },
    {
      "cell_type": "code",
      "source": [
        "print(np.random.randint(10,20,(10)))"
      ],
      "metadata": {
        "colab": {
          "base_uri": "https://localhost:8080/"
        },
        "id": "1VJ21RoibqI8",
        "outputId": "f5fccda6-db07-45a3-95bc-d0a0114dc3ac"
      },
      "execution_count": null,
      "outputs": [
        {
          "output_type": "stream",
          "name": "stdout",
          "text": [
            "[11 13 18 15 14 13 13 13 10 11]\n"
          ]
        }
      ]
    },
    {
      "cell_type": "code",
      "source": [
        "print(np.random.randint(10,50,(3,3)))"
      ],
      "metadata": {
        "colab": {
          "base_uri": "https://localhost:8080/"
        },
        "id": "ZREheSs4b211",
        "outputId": "8ad84cc0-147b-42be-bef4-3d840d8aea57"
      },
      "execution_count": null,
      "outputs": [
        {
          "output_type": "stream",
          "name": "stdout",
          "text": [
            "[[19 20 37]\n",
            " [44 19 42]\n",
            " [10 48 19]]\n"
          ]
        }
      ]
    },
    {
      "cell_type": "code",
      "source": [
        "x=np.random.randint(1,10,(3,4))\n",
        "print(x)\n",
        "print(x[0])\n",
        "print(x.shape)\n",
        "print(x[0][2])\n",
        "print(x[1 , 2])"
      ],
      "metadata": {
        "colab": {
          "base_uri": "https://localhost:8080/"
        },
        "id": "XfsGtNy1cIlM",
        "outputId": "2c1d46dd-c11c-4e3f-91dc-eca268638579"
      },
      "execution_count": null,
      "outputs": [
        {
          "output_type": "stream",
          "name": "stdout",
          "text": [
            "[[1 5 1 5]\n",
            " [6 8 7 9]\n",
            " [1 8 6 3]]\n",
            "[1 5 1 5]\n",
            "(3, 4)\n",
            "1\n",
            "7\n"
          ]
        }
      ]
    },
    {
      "cell_type": "code",
      "source": [
        "x=np.random.randint(10,20,(3,3))\n",
        "print(x)\n",
        "print(x[: ,2])\n",
        "print(x[:  2])"
      ],
      "metadata": {
        "colab": {
          "base_uri": "https://localhost:8080/"
        },
        "id": "4hTonUQhdDJ1",
        "outputId": "0a6e7a54-068a-43c3-bcce-98f8c40fe887"
      },
      "execution_count": null,
      "outputs": [
        {
          "output_type": "stream",
          "name": "stdout",
          "text": [
            "[[10 11 13]\n",
            " [11 13 12]\n",
            " [19 11 19]]\n",
            "[13 12 19]\n",
            "[[10 11 13]\n",
            " [11 13 12]]\n"
          ]
        }
      ]
    },
    {
      "cell_type": "code",
      "source": [
        "x=np.random.randint(10,20,(3,4))\n",
        "print(x)\n",
        "print(x[1:2,1:3])"
      ],
      "metadata": {
        "colab": {
          "base_uri": "https://localhost:8080/"
        },
        "id": "tbwpoyMgdgml",
        "outputId": "e62ef7f5-005c-4d0b-c95c-85f680912281"
      },
      "execution_count": null,
      "outputs": [
        {
          "output_type": "stream",
          "name": "stdout",
          "text": [
            "[[10 19 16 10]\n",
            " [18 14 11 10]\n",
            " [12 11 11 14]]\n",
            "[[14 11]]\n"
          ]
        }
      ]
    },
    {
      "cell_type": "code",
      "source": [
        "a=np.random.randint(10,20,(3,4))\n",
        "print(a)\n",
        "print('---------------')\n",
        "print(a[1:,2:])\n",
        "print('---------------')\n",
        "print(a[:2,:3])\n",
        "print('---------------')\n",
        "print(a[:-2,:-1])\n",
        "print('---------------')\n",
        "print(a[:-2,:-2])\n",
        "print('---------------')\n",
        "print(a[1:-1,1:-2])"
      ],
      "metadata": {
        "colab": {
          "base_uri": "https://localhost:8080/"
        },
        "id": "W7v-xGT_eG4b",
        "outputId": "106f9f73-8fee-4915-d97d-b89501124898"
      },
      "execution_count": null,
      "outputs": [
        {
          "output_type": "stream",
          "name": "stdout",
          "text": [
            "[[13 12 17 18]\n",
            " [17 14 15 19]\n",
            " [13 10 13 16]]\n",
            "---------------\n",
            "[[15 19]\n",
            " [13 16]]\n",
            "---------------\n",
            "[[13 12 17]\n",
            " [17 14 15]]\n",
            "---------------\n",
            "[[13 12 17]]\n",
            "---------------\n",
            "[[13 12]]\n",
            "---------------\n",
            "[[14]]\n"
          ]
        }
      ]
    },
    {
      "cell_type": "code",
      "source": [
        "#identity matrix\n",
        "print(np.eye(3))\n",
        "print(np.eye(4))\n",
        "print(np.eye(4 , k=1))"
      ],
      "metadata": {
        "colab": {
          "base_uri": "https://localhost:8080/"
        },
        "id": "YViL0JNrhoGo",
        "outputId": "7506b107-c284-47d8-c472-35540940b167"
      },
      "execution_count": null,
      "outputs": [
        {
          "output_type": "stream",
          "name": "stdout",
          "text": [
            "[[1. 0. 0.]\n",
            " [0. 1. 0.]\n",
            " [0. 0. 1.]]\n",
            "[[1. 0. 0. 0.]\n",
            " [0. 1. 0. 0.]\n",
            " [0. 0. 1. 0.]\n",
            " [0. 0. 0. 1.]]\n",
            "[[0. 1. 0. 0.]\n",
            " [0. 0. 1. 0.]\n",
            " [0. 0. 0. 1.]\n",
            " [0. 0. 0. 0.]]\n"
          ]
        }
      ]
    },
    {
      "cell_type": "code",
      "source": [
        "a=np.array([[1,2,3],[4,5,6]])\n",
        "print(a)\n",
        "a.shape=(3,2)\n",
        "print(a)\n",
        "print(a.reshape(2,3))\n",
        "print(np.sum([1,2,3,4,5]))\n",
        "print(np.prod([1,2,3,4,5]))\n",
        "print(np.shape(a))\n",
        "print(np.sum(np.shape(a)))\n",
        "print(np.prod(np.shape(a)))"
      ],
      "metadata": {
        "colab": {
          "base_uri": "https://localhost:8080/"
        },
        "id": "27ImiG9viQZN",
        "outputId": "892f370d-c913-4a8c-938d-76b642033b3f"
      },
      "execution_count": null,
      "outputs": [
        {
          "output_type": "stream",
          "name": "stdout",
          "text": [
            "[[1 2 3]\n",
            " [4 5 6]]\n",
            "[[1 2]\n",
            " [3 4]\n",
            " [5 6]]\n",
            "[[1 2 3]\n",
            " [4 5 6]]\n",
            "15\n",
            "120\n",
            "(3, 2)\n",
            "5\n",
            "6\n"
          ]
        }
      ]
    },
    {
      "cell_type": "code",
      "source": [
        "a=np.array([[1,2,3],[4,5,6],[7,8,9]])\n",
        "print(a)\n",
        "print('------')\n",
        "print(np.flip(a))\n",
        "print('------')\n",
        "print(np.flip(a,axis=0))\n",
        "print('------')\n",
        "print(np.flip(a,axis=1))"
      ],
      "metadata": {
        "colab": {
          "base_uri": "https://localhost:8080/"
        },
        "id": "-nIg19FNolyf",
        "outputId": "036f92ab-4764-43cb-991f-bbf660e85834"
      },
      "execution_count": null,
      "outputs": [
        {
          "output_type": "stream",
          "name": "stdout",
          "text": [
            "[[1 2 3]\n",
            " [4 5 6]\n",
            " [7 8 9]]\n",
            "------\n",
            "[[9 8 7]\n",
            " [6 5 4]\n",
            " [3 2 1]]\n",
            "------\n",
            "[[7 8 9]\n",
            " [4 5 6]\n",
            " [1 2 3]]\n",
            "------\n",
            "[[3 2 1]\n",
            " [6 5 4]\n",
            " [9 8 7]]\n"
          ]
        }
      ]
    },
    {
      "cell_type": "code",
      "source": [
        "x=np.random.randint(5,11,(3,2))\n",
        "print(x)"
      ],
      "metadata": {
        "colab": {
          "base_uri": "https://localhost:8080/"
        },
        "id": "JkSRuPUtf7PH",
        "outputId": "37a58f0a-a837-4b6b-c9a2-a4b81cb713cb"
      },
      "execution_count": 94,
      "outputs": [
        {
          "output_type": "stream",
          "name": "stdout",
          "text": [
            "[[ 7  8]\n",
            " [ 8  9]\n",
            " [ 6 10]]\n"
          ]
        }
      ]
    },
    {
      "cell_type": "code",
      "source": [
        "#Check whether a number is even or odd using lambda function\n",
        "x=lambda x:x%2==0\n",
        "print(x(5))"
      ],
      "metadata": {
        "id": "PUwHYRLHnosb",
        "colab": {
          "base_uri": "https://localhost:8080/"
        },
        "outputId": "08d88cc5-f7a8-4b83-bace-ce96ec111de7"
      },
      "execution_count": 96,
      "outputs": [
        {
          "output_type": "stream",
          "name": "stdout",
          "text": [
            "False\n"
          ]
        }
      ]
    },
    {
      "cell_type": "code",
      "source": [
        "#Wrire a recursive function that generates Fibonacci sequence of n numbers. \n",
        "#For example, first 10 (n = 10) numbers in the sequence are 0, 1, 1, 2, 3, 5, 8, 13, 21, 34\n",
        "def faba(n):\n",
        "  if n>1:\n",
        "    return faba(n-2)+faba(n-1)\n",
        "  else:\n",
        "    return n\n",
        "x=int(input())\n",
        "l=[]\n",
        "for i in range(x):\n",
        "  l.append(faba(i))\n",
        "print(l)"
      ],
      "metadata": {
        "id": "MXcThWyxntDC",
        "colab": {
          "base_uri": "https://localhost:8080/"
        },
        "outputId": "7db5569f-f0a0-45f7-b1ae-1249193a09d7"
      },
      "execution_count": 109,
      "outputs": [
        {
          "output_type": "stream",
          "name": "stdout",
          "text": [
            "10\n",
            "[0, 1, 1, 2, 3, 5, 8, 13, 21, 34]\n"
          ]
        }
      ]
    },
    {
      "cell_type": "code",
      "source": [
        "#Find indices of non-zero elements from the numpy array - [1,2,0,0,4,0]\n",
        "l=[1,2,0,0,4,0]\n",
        "res=list(filter(lambda x:x>0,l))\n",
        "print(res)\n",
        "print(np.nonzero(l))"
      ],
      "metadata": {
        "id": "iHo3Lf0JnwJC",
        "colab": {
          "base_uri": "https://localhost:8080/"
        },
        "outputId": "f4f76ec3-8fde-4ef2-bd49-0b354aedd8fa"
      },
      "execution_count": 114,
      "outputs": [
        {
          "output_type": "stream",
          "name": "stdout",
          "text": [
            "[1, 2, 4]\n",
            "(array([0, 1, 4]),)\n"
          ]
        }
      ]
    },
    {
      "cell_type": "code",
      "source": [
        "#Create a vector with values ranging from 10 to 49 and then reverse the vector.\n",
        "x=np.arange(10,49)\n",
        "print(x)\n",
        "print(x[::-1])"
      ],
      "metadata": {
        "id": "jN_ULb9tnyfa",
        "colab": {
          "base_uri": "https://localhost:8080/"
        },
        "outputId": "33253e76-8b2a-4c49-ee1c-87b40238e185"
      },
      "execution_count": 117,
      "outputs": [
        {
          "output_type": "stream",
          "name": "stdout",
          "text": [
            "[10 11 12 13 14 15 16 17 18 19 20 21 22 23 24 25 26 27 28 29 30 31 32 33\n",
            " 34 35 36 37 38 39 40 41 42 43 44 45 46 47 48]\n",
            "[48 47 46 45 44 43 42 41 40 39 38 37 36 35 34 33 32 31 30 29 28 27 26 25\n",
            " 24 23 22 21 20 19 18 17 16 15 14 13 12 11 10]\n"
          ]
        }
      ]
    },
    {
      "cell_type": "code",
      "source": [
        "#Create a 3x3 matrix with values ranging from 0 to 8\n",
        "x=np.arange(0,9).reshape(3,3)\n",
        "print(x)\n"
      ],
      "metadata": {
        "id": "do8DI_Egn0ys",
        "colab": {
          "base_uri": "https://localhost:8080/"
        },
        "outputId": "8da12cc3-a39a-40f3-fb4a-a97a8ef63557"
      },
      "execution_count": 121,
      "outputs": [
        {
          "output_type": "stream",
          "name": "stdout",
          "text": [
            "[[0 1 2]\n",
            " [3 4 5]\n",
            " [6 7 8]]\n"
          ]
        }
      ]
    },
    {
      "cell_type": "code",
      "source": [
        "#Create a 2d array with 0 on the border and 1 inside\n",
        "a=np.zeros((4,4))\n",
        "a[1:3,1:3]=1\n",
        "a"
      ],
      "metadata": {
        "id": "duGlsgFMn3Iy",
        "colab": {
          "base_uri": "https://localhost:8080/"
        },
        "outputId": "634268d0-cbea-4ce7-ca1e-927a7f863587"
      },
      "execution_count": 129,
      "outputs": [
        {
          "output_type": "execute_result",
          "data": {
            "text/plain": [
              "array([[0., 0., 0., 0.],\n",
              "       [0., 1., 1., 0.],\n",
              "       [0., 1., 1., 0.],\n",
              "       [0., 0., 0., 0.]])"
            ]
          },
          "metadata": {},
          "execution_count": 129
        }
      ]
    },
    {
      "cell_type": "code",
      "source": [
        "import numpy as np"
      ],
      "metadata": {
        "id": "uLhzz382ZAsW"
      },
      "execution_count": null,
      "outputs": []
    },
    {
      "cell_type": "code",
      "source": [
        "print('concatenation example')\n",
        "print(np.char.add(['rajitha ','shanaya'],['ramineni','nandan']))"
      ],
      "metadata": {
        "colab": {
          "base_uri": "https://localhost:8080/"
        },
        "id": "WSb0DcD6ZEjM",
        "outputId": "9d38a049-d5f7-4637-f15f-5c0a549cb8f1"
      },
      "execution_count": null,
      "outputs": [
        {
          "output_type": "stream",
          "name": "stdout",
          "text": [
            "concatenation example\n",
            "['rajitha ramineni' 'shanayanandan']\n"
          ]
        }
      ]
    },
    {
      "cell_type": "code",
      "source": [
        "print(np.char.multiply('hello ',3))"
      ],
      "metadata": {
        "colab": {
          "base_uri": "https://localhost:8080/"
        },
        "id": "JPS0hdaBZnhW",
        "outputId": "cb085231-07f3-49d9-c99e-8b5b893f2e40"
      },
      "execution_count": null,
      "outputs": [
        {
          "output_type": "stream",
          "name": "stdout",
          "text": [
            "hello hello hello \n"
          ]
        }
      ]
    },
    {
      "cell_type": "code",
      "source": [
        "print(np.char.center('hello',20,fillchar='-'))"
      ],
      "metadata": {
        "colab": {
          "base_uri": "https://localhost:8080/"
        },
        "id": "mk2Rn2mmaG5j",
        "outputId": "40afd9b8-49c6-40af-fbbf-32f00d768d8e"
      },
      "execution_count": null,
      "outputs": [
        {
          "output_type": "stream",
          "name": "stdout",
          "text": [
            "-------hello--------\n"
          ]
        }
      ]
    },
    {
      "cell_type": "code",
      "source": [
        "print(np.char.capitalize('hi this is numpy class'))\n",
        "print(np.char.capitalize(['hi this','is numpy',' class']))"
      ],
      "metadata": {
        "colab": {
          "base_uri": "https://localhost:8080/"
        },
        "id": "Hdbt7F97bGKF",
        "outputId": "f88bcfef-f4dc-4770-ed99-f65cb1e48490"
      },
      "execution_count": null,
      "outputs": [
        {
          "output_type": "stream",
          "name": "stdout",
          "text": [
            "Hi this is numpy class\n",
            "['Hi this' 'Is numpy' ' class']\n"
          ]
        }
      ]
    },
    {
      "cell_type": "code",
      "source": [
        "print(np.char.title('hi this is numpy class'))\n",
        "print(np.char.title(['hi','this is',' numpy',' class']))"
      ],
      "metadata": {
        "colab": {
          "base_uri": "https://localhost:8080/"
        },
        "id": "8U50Y_xTbOqq",
        "outputId": "61a2f1a0-b16c-4c60-ce79-188b847b36e6"
      },
      "execution_count": null,
      "outputs": [
        {
          "output_type": "stream",
          "name": "stdout",
          "text": [
            "Hi This Is Numpy Class\n",
            "['Hi' 'This Is' ' Numpy' ' Class']\n"
          ]
        }
      ]
    },
    {
      "cell_type": "code",
      "source": [
        "print(np.char.lower('HI HELLO I AM RAJITHA'))"
      ],
      "metadata": {
        "colab": {
          "base_uri": "https://localhost:8080/"
        },
        "id": "lLA1b_Tgbkl9",
        "outputId": "bb9cbc76-19a3-40f3-ed3f-136cac5d9757"
      },
      "execution_count": null,
      "outputs": [
        {
          "output_type": "stream",
          "name": "stdout",
          "text": [
            "hi hello i am rajitha\n"
          ]
        }
      ]
    },
    {
      "cell_type": "code",
      "source": [
        "print(np.char.upper('hi my name is rajitha ramineni'))\n",
        "print(np.char.upper(['hi','this','is','python','numpy class']))"
      ],
      "metadata": {
        "colab": {
          "base_uri": "https://localhost:8080/"
        },
        "id": "6-1Y7EZPb8R7",
        "outputId": "236a2817-560b-46b6-d987-c4310fc8e014"
      },
      "execution_count": null,
      "outputs": [
        {
          "output_type": "stream",
          "name": "stdout",
          "text": [
            "HI MY NAME IS RAJITHA RAMINENI\n",
            "['HI' 'THIS' 'IS' 'PYTHON' 'NUMPY CLASS']\n"
          ]
        }
      ]
    },
    {
      "cell_type": "code",
      "source": [
        "print(np.char.split('hi my name is rajitha ramineni'))"
      ],
      "metadata": {
        "colab": {
          "base_uri": "https://localhost:8080/"
        },
        "id": "oG5RfiHOcNss",
        "outputId": "f0536dfb-d25a-4083-c656-246961af0131"
      },
      "execution_count": null,
      "outputs": [
        {
          "output_type": "stream",
          "name": "stdout",
          "text": [
            "['hi', 'my', 'name', 'is', 'rajitha', 'ramineni']\n"
          ]
        }
      ]
    },
    {
      "cell_type": "code",
      "source": [
        "print(np.char.splitlines('hi\\n my name is\\n rajitha ramineni'))"
      ],
      "metadata": {
        "colab": {
          "base_uri": "https://localhost:8080/"
        },
        "id": "lqevva25cXUL",
        "outputId": "cc06f43b-8317-430f-bb00-5c135c9619b5"
      },
      "execution_count": null,
      "outputs": [
        {
          "output_type": "stream",
          "name": "stdout",
          "text": [
            "['hi', ' my name is', ' rajitha ramineni']\n"
          ]
        }
      ]
    },
    {
      "cell_type": "code",
      "source": [
        "print(np.char.strip(['hi','my name','is','rajitha','ramineni'],'i'))"
      ],
      "metadata": {
        "colab": {
          "base_uri": "https://localhost:8080/"
        },
        "id": "zfBhgYU7cf80",
        "outputId": "e2a2078f-9f07-480f-ca36-d70766e73df1"
      },
      "execution_count": null,
      "outputs": [
        {
          "output_type": "stream",
          "name": "stdout",
          "text": [
            "['h' 'my name' 's' 'rajitha' 'raminen']\n"
          ]
        }
      ]
    },
    {
      "cell_type": "code",
      "source": [
        "print(np.char.join(['/','-'],['dmy','ymd']))"
      ],
      "metadata": {
        "colab": {
          "base_uri": "https://localhost:8080/"
        },
        "id": "fLEQQkIxdRw8",
        "outputId": "82c06b12-dccf-4635-f981-afbb3378b66f"
      },
      "execution_count": null,
      "outputs": [
        {
          "output_type": "stream",
          "name": "stdout",
          "text": [
            "['d/m/y' 'y-m-d']\n"
          ]
        }
      ]
    },
    {
      "cell_type": "code",
      "source": [
        "print(np.char.replace('this is python class','python','numpy'))"
      ],
      "metadata": {
        "colab": {
          "base_uri": "https://localhost:8080/"
        },
        "id": "jUaHgqSBdkHC",
        "outputId": "0c8466be-1a4a-4220-fa7b-082b7016c735"
      },
      "execution_count": null,
      "outputs": [
        {
          "output_type": "stream",
          "name": "stdout",
          "text": [
            "this is numpy class\n"
          ]
        }
      ]
    },
    {
      "cell_type": "markdown",
      "source": [
        "#multi dimensional array"
      ],
      "metadata": {
        "id": "NnNwEV0Ufj-v"
      }
    },
    {
      "cell_type": "code",
      "source": [
        "a=np.arange(9)\n",
        "print(a)\n",
        "b=a.reshape(3,3)\n",
        "print(b)\n",
        "c=b.reshape(9,1)\n",
        "print(c)\n",
        "print(b.flatten())"
      ],
      "metadata": {
        "colab": {
          "base_uri": "https://localhost:8080/"
        },
        "id": "aG_aPozIfjHp",
        "outputId": "ad48a30f-8512-4b3a-e155-bcee724d3903"
      },
      "execution_count": null,
      "outputs": [
        {
          "output_type": "stream",
          "name": "stdout",
          "text": [
            "[0 1 2 3 4 5 6 7 8]\n",
            "[[0 1 2]\n",
            " [3 4 5]\n",
            " [6 7 8]]\n",
            "[[0]\n",
            " [1]\n",
            " [2]\n",
            " [3]\n",
            " [4]\n",
            " [5]\n",
            " [6]\n",
            " [7]\n",
            " [8]]\n",
            "[0 1 2 3 4 5 6 7 8]\n"
          ]
        }
      ]
    },
    {
      "cell_type": "code",
      "source": [
        "print(b)\n",
        "print(b.flatten(order='F'))\n",
        "print(b)\n",
        "print(b.flatten(order='C'))\n",
        "print(b)\n",
        "print(b.flatten(order='A'))"
      ],
      "metadata": {
        "colab": {
          "base_uri": "https://localhost:8080/"
        },
        "id": "9mgq9LaLgBvV",
        "outputId": "48a8b0d0-2fdc-442b-c1bb-4d16ece9c54e"
      },
      "execution_count": null,
      "outputs": [
        {
          "output_type": "stream",
          "name": "stdout",
          "text": [
            "[[0 1 2]\n",
            " [3 4 5]\n",
            " [6 7 8]]\n",
            "[0 3 6 1 4 7 2 5 8]\n",
            "[[0 1 2]\n",
            " [3 4 5]\n",
            " [6 7 8]]\n",
            "[0 1 2 3 4 5 6 7 8]\n",
            "[[0 1 2]\n",
            " [3 4 5]\n",
            " [6 7 8]]\n",
            "[0 1 2 3 4 5 6 7 8]\n"
          ]
        }
      ]
    },
    {
      "cell_type": "code",
      "source": [
        "a=np.arange(12).reshape(3,4)\n",
        "print(a)"
      ],
      "metadata": {
        "colab": {
          "base_uri": "https://localhost:8080/"
        },
        "id": "DLBsEsS6h5I7",
        "outputId": "00ba985e-b568-430e-d2c9-4d0d4b018104"
      },
      "execution_count": null,
      "outputs": [
        {
          "output_type": "stream",
          "name": "stdout",
          "text": [
            "[[ 0  1  2  3]\n",
            " [ 4  5  6  7]\n",
            " [ 8  9 10 11]]\n"
          ]
        }
      ]
    },
    {
      "cell_type": "code",
      "source": [
        "b=a.reshape(2,2,3)\n",
        "b"
      ],
      "metadata": {
        "colab": {
          "base_uri": "https://localhost:8080/"
        },
        "id": "2DF1vLpGiBK8",
        "outputId": "f29a0478-067d-4e55-adfc-d57a568def4f"
      },
      "execution_count": null,
      "outputs": [
        {
          "output_type": "execute_result",
          "data": {
            "text/plain": [
              "array([[[ 0,  1,  2],\n",
              "        [ 3,  4,  5]],\n",
              "\n",
              "       [[ 6,  7,  8],\n",
              "        [ 9, 10, 11]]])"
            ]
          },
          "metadata": {},
          "execution_count": 35
        }
      ]
    },
    {
      "cell_type": "code",
      "source": [
        "np.rollaxis(b,2,1)"
      ],
      "metadata": {
        "colab": {
          "base_uri": "https://localhost:8080/"
        },
        "id": "UqF-PYZciho3",
        "outputId": "33c66497-4dd1-4dc2-c663-0bee17692a9f"
      },
      "execution_count": null,
      "outputs": [
        {
          "output_type": "execute_result",
          "data": {
            "text/plain": [
              "array([[[ 0,  3],\n",
              "        [ 1,  4],\n",
              "        [ 2,  5]],\n",
              "\n",
              "       [[ 6,  9],\n",
              "        [ 7, 10],\n",
              "        [ 8, 11]]])"
            ]
          },
          "metadata": {},
          "execution_count": 37
        }
      ]
    },
    {
      "cell_type": "code",
      "source": [
        "print(b)\n",
        "np.rollaxis(b,1)"
      ],
      "metadata": {
        "colab": {
          "base_uri": "https://localhost:8080/"
        },
        "id": "042VdKTLi7Ry",
        "outputId": "ce5fd4d0-1a3c-4b18-9077-213fdf351417"
      },
      "execution_count": null,
      "outputs": [
        {
          "output_type": "stream",
          "name": "stdout",
          "text": [
            "[[[ 0  1  2]\n",
            "  [ 3  4  5]]\n",
            "\n",
            " [[ 6  7  8]\n",
            "  [ 9 10 11]]]\n"
          ]
        },
        {
          "output_type": "execute_result",
          "data": {
            "text/plain": [
              "array([[[ 0,  1,  2],\n",
              "        [ 6,  7,  8]],\n",
              "\n",
              "       [[ 3,  4,  5],\n",
              "        [ 9, 10, 11]]])"
            ]
          },
          "metadata": {},
          "execution_count": 42
        }
      ]
    },
    {
      "cell_type": "code",
      "source": [
        "c=a.reshape(3,2,2)\n",
        "c"
      ],
      "metadata": {
        "colab": {
          "base_uri": "https://localhost:8080/"
        },
        "id": "LKZB7YsbiMGr",
        "outputId": "696a7557-5e6f-4f85-feb6-b242733e4c18"
      },
      "execution_count": null,
      "outputs": [
        {
          "output_type": "execute_result",
          "data": {
            "text/plain": [
              "array([[[ 0,  1],\n",
              "        [ 2,  3]],\n",
              "\n",
              "       [[ 4,  5],\n",
              "        [ 6,  7]],\n",
              "\n",
              "       [[ 8,  9],\n",
              "        [10, 11]]])"
            ]
          },
          "metadata": {},
          "execution_count": 33
        }
      ]
    },
    {
      "cell_type": "code",
      "source": [
        "np.rollaxis(c,2,1)\n"
      ],
      "metadata": {
        "colab": {
          "base_uri": "https://localhost:8080/"
        },
        "id": "W8jBbZ1Niala",
        "outputId": "1ac6034c-0db8-47ca-b46b-49166da98506"
      },
      "execution_count": null,
      "outputs": [
        {
          "output_type": "execute_result",
          "data": {
            "text/plain": [
              "array([[[ 0,  2],\n",
              "        [ 1,  3]],\n",
              "\n",
              "       [[ 4,  6],\n",
              "        [ 5,  7]],\n",
              "\n",
              "       [[ 8, 10],\n",
              "        [ 9, 11]]])"
            ]
          },
          "metadata": {},
          "execution_count": 34
        }
      ]
    },
    {
      "cell_type": "code",
      "source": [
        "print(c)\n",
        "np.rollaxis(c,1)"
      ],
      "metadata": {
        "colab": {
          "base_uri": "https://localhost:8080/"
        },
        "id": "QPXGjOEKis1E",
        "outputId": "e1c17b99-e7c2-45c2-e94d-e7e245681509"
      },
      "execution_count": null,
      "outputs": [
        {
          "output_type": "stream",
          "name": "stdout",
          "text": [
            "[[[ 0  1]\n",
            "  [ 2  3]]\n",
            "\n",
            " [[ 4  5]\n",
            "  [ 6  7]]\n",
            "\n",
            " [[ 8  9]\n",
            "  [10 11]]]\n"
          ]
        },
        {
          "output_type": "execute_result",
          "data": {
            "text/plain": [
              "array([[[ 0,  1],\n",
              "        [ 4,  5],\n",
              "        [ 8,  9]],\n",
              "\n",
              "       [[ 2,  3],\n",
              "        [ 6,  7],\n",
              "        [10, 11]]])"
            ]
          },
          "metadata": {},
          "execution_count": 40
        }
      ]
    },
    {
      "cell_type": "code",
      "source": [
        "print(c)\n",
        "np.rollaxis(c,2)"
      ],
      "metadata": {
        "colab": {
          "base_uri": "https://localhost:8080/"
        },
        "id": "kgUb4ZDSjHLJ",
        "outputId": "a4de4438-b88c-4755-f244-22e8d4d07899"
      },
      "execution_count": null,
      "outputs": [
        {
          "output_type": "stream",
          "name": "stdout",
          "text": [
            "[[[ 0  1]\n",
            "  [ 2  3]]\n",
            "\n",
            " [[ 4  5]\n",
            "  [ 6  7]]\n",
            "\n",
            " [[ 8  9]\n",
            "  [10 11]]]\n"
          ]
        },
        {
          "output_type": "execute_result",
          "data": {
            "text/plain": [
              "array([[[ 0,  2],\n",
              "        [ 4,  6],\n",
              "        [ 8, 10]],\n",
              "\n",
              "       [[ 1,  3],\n",
              "        [ 5,  7],\n",
              "        [ 9, 11]]])"
            ]
          },
          "metadata": {},
          "execution_count": 43
        }
      ]
    },
    {
      "cell_type": "code",
      "source": [
        "print(b)\n",
        "print()\n",
        "print(np.swapaxes(b,1,2))\n",
        "print()\n",
        "print(np.swapaxes(b,2,1))"
      ],
      "metadata": {
        "colab": {
          "base_uri": "https://localhost:8080/"
        },
        "id": "H4cP2EtijOkJ",
        "outputId": "84ccab37-7742-4ef6-cd91-182f275494fd"
      },
      "execution_count": null,
      "outputs": [
        {
          "output_type": "stream",
          "name": "stdout",
          "text": [
            "[[[ 0  1  2]\n",
            "  [ 3  4  5]]\n",
            "\n",
            " [[ 6  7  8]\n",
            "  [ 9 10 11]]]\n",
            "\n",
            "[[[ 0  3]\n",
            "  [ 1  4]\n",
            "  [ 2  5]]\n",
            "\n",
            " [[ 6  9]\n",
            "  [ 7 10]\n",
            "  [ 8 11]]]\n",
            "\n",
            "[[[ 0  3]\n",
            "  [ 1  4]\n",
            "  [ 2  5]]\n",
            "\n",
            " [[ 6  9]\n",
            "  [ 7 10]\n",
            "  [ 8 11]]]\n"
          ]
        }
      ]
    },
    {
      "cell_type": "markdown",
      "source": [
        "#numpy Arithmatic operations"
      ],
      "metadata": {
        "id": "BC-Flr5JkPlz"
      }
    },
    {
      "cell_type": "code",
      "source": [
        "a=np.arange(9).reshape(3,3)\n",
        "a+5"
      ],
      "metadata": {
        "colab": {
          "base_uri": "https://localhost:8080/"
        },
        "id": "gsMQoXyPkJS1",
        "outputId": "1df64996-d217-484b-a665-be1d69511ccc"
      },
      "execution_count": null,
      "outputs": [
        {
          "output_type": "execute_result",
          "data": {
            "text/plain": [
              "array([[ 5,  6,  7],\n",
              "       [ 8,  9, 10],\n",
              "       [11, 12, 13]])"
            ]
          },
          "metadata": {},
          "execution_count": 52
        }
      ]
    },
    {
      "cell_type": "code",
      "source": [
        "b=np.array([1,10,11])\n",
        "b"
      ],
      "metadata": {
        "colab": {
          "base_uri": "https://localhost:8080/"
        },
        "id": "6SfV77o4ljWq",
        "outputId": "eb7412f6-5b68-4cec-9d4c-9e41e67779fb"
      },
      "execution_count": null,
      "outputs": [
        {
          "output_type": "execute_result",
          "data": {
            "text/plain": [
              "array([ 1, 10, 11])"
            ]
          },
          "metadata": {},
          "execution_count": 56
        }
      ]
    },
    {
      "cell_type": "code",
      "source": [
        "print(np.add(a,b))"
      ],
      "metadata": {
        "colab": {
          "base_uri": "https://localhost:8080/"
        },
        "id": "sJONUNMolo1C",
        "outputId": "3e16ddc5-b38d-4a46-aa25-2cb8f087f513"
      },
      "execution_count": null,
      "outputs": [
        {
          "output_type": "stream",
          "name": "stdout",
          "text": [
            "[[ 1 11 13]\n",
            " [ 4 14 16]\n",
            " [ 7 17 19]]\n"
          ]
        }
      ]
    },
    {
      "cell_type": "code",
      "source": [
        "print(np.subtract(a,b))"
      ],
      "metadata": {
        "colab": {
          "base_uri": "https://localhost:8080/"
        },
        "id": "ofcrRAdWl-bW",
        "outputId": "2fed7bbb-9064-4e36-aed4-1f8d43c7ec01"
      },
      "execution_count": null,
      "outputs": [
        {
          "output_type": "stream",
          "name": "stdout",
          "text": [
            "[[-1 -9 -9]\n",
            " [ 2 -6 -6]\n",
            " [ 5 -3 -3]]\n"
          ]
        }
      ]
    },
    {
      "cell_type": "code",
      "source": [
        "print(np.multiply(a,b))"
      ],
      "metadata": {
        "colab": {
          "base_uri": "https://localhost:8080/"
        },
        "id": "U3OEsSFCmOh6",
        "outputId": "444985b3-f908-4e46-b5e9-5e5a9f62fd36"
      },
      "execution_count": null,
      "outputs": [
        {
          "output_type": "stream",
          "name": "stdout",
          "text": [
            "[[ 0 10 22]\n",
            " [ 3 40 55]\n",
            " [ 6 70 88]]\n"
          ]
        }
      ]
    },
    {
      "cell_type": "code",
      "source": [
        "print(np.divide(a,b))\n",
        "#print(np.divide(b,a))"
      ],
      "metadata": {
        "colab": {
          "base_uri": "https://localhost:8080/"
        },
        "id": "hak3U14Ln7em",
        "outputId": "6d65f951-1414-4958-aade-b7514628191d"
      },
      "execution_count": null,
      "outputs": [
        {
          "output_type": "stream",
          "name": "stdout",
          "text": [
            "[[0.         0.1        0.18181818]\n",
            " [3.         0.4        0.45454545]\n",
            " [6.         0.7        0.72727273]]\n"
          ]
        }
      ]
    },
    {
      "cell_type": "code",
      "source": [
        "print(a,b)\n",
        "print(np.mod(a,b))"
      ],
      "metadata": {
        "colab": {
          "base_uri": "https://localhost:8080/"
        },
        "id": "2iTp8VK7oFDq",
        "outputId": "feb288a8-45a1-4955-8d63-c1cb4f48f26e"
      },
      "execution_count": null,
      "outputs": [
        {
          "output_type": "stream",
          "name": "stdout",
          "text": [
            "[[0 1 2]\n",
            " [3 4 5]\n",
            " [6 7 8]] [ 1 10 11]\n",
            "[[0 1 2]\n",
            " [0 4 5]\n",
            " [0 7 8]]\n"
          ]
        }
      ]
    },
    {
      "cell_type": "markdown",
      "source": [
        "#slicing"
      ],
      "metadata": {
        "id": "l9EreWdopN-b"
      }
    },
    {
      "cell_type": "code",
      "source": [
        "a=np.arange(10)\n",
        "a"
      ],
      "metadata": {
        "colab": {
          "base_uri": "https://localhost:8080/"
        },
        "id": "hBY0vS9vonRC",
        "outputId": "c716e487-c797-4b23-e8ed-14ec99f2587b"
      },
      "execution_count": null,
      "outputs": [
        {
          "output_type": "execute_result",
          "data": {
            "text/plain": [
              "array([0, 1, 2, 3, 4, 5, 6, 7, 8, 9])"
            ]
          },
          "metadata": {},
          "execution_count": 69
        }
      ]
    },
    {
      "cell_type": "code",
      "source": [
        "print(a[:5])\n",
        "print(a[1:6])\n",
        "print(a[5:])"
      ],
      "metadata": {
        "colab": {
          "base_uri": "https://localhost:8080/"
        },
        "id": "q74h0dZvpU7z",
        "outputId": "f2bdc365-1a56-472e-c823-d8d21757f42f"
      },
      "execution_count": null,
      "outputs": [
        {
          "output_type": "stream",
          "name": "stdout",
          "text": [
            "[0 1 2 3 4]\n",
            "[1 2 3 4 5]\n",
            "[5 6 7 8 9]\n"
          ]
        }
      ]
    },
    {
      "cell_type": "code",
      "source": [
        "s=slice(1,10,2)\n",
        "print(a[s])"
      ],
      "metadata": {
        "colab": {
          "base_uri": "https://localhost:8080/"
        },
        "id": "4VHKOZuMp9HU",
        "outputId": "f7b56826-60be-44c5-f7f4-86e561755b07"
      },
      "execution_count": null,
      "outputs": [
        {
          "output_type": "stream",
          "name": "stdout",
          "text": [
            "[1 3 5 7 9]\n"
          ]
        }
      ]
    },
    {
      "cell_type": "code",
      "source": [
        "print(a[1::2])"
      ],
      "metadata": {
        "colab": {
          "base_uri": "https://localhost:8080/"
        },
        "id": "05k73rIat-iO",
        "outputId": "d8599578-9b13-4685-ea0d-62c601c7a70d"
      },
      "execution_count": null,
      "outputs": [
        {
          "output_type": "stream",
          "name": "stdout",
          "text": [
            "[1 3 5 7 9]\n"
          ]
        }
      ]
    },
    {
      "cell_type": "markdown",
      "source": [
        "#iterating ver array"
      ],
      "metadata": {
        "id": "pu_INA05uKkD"
      }
    },
    {
      "cell_type": "code",
      "source": [
        "a=np.arange(0,11,2).reshape(2,3)\n",
        "a"
      ],
      "metadata": {
        "colab": {
          "base_uri": "https://localhost:8080/"
        },
        "id": "mDMZTGy0uM-i",
        "outputId": "c36669f6-788c-4e15-d853-ea256d9843e8"
      },
      "execution_count": null,
      "outputs": [
        {
          "output_type": "execute_result",
          "data": {
            "text/plain": [
              "array([[ 0,  2,  4],\n",
              "       [ 6,  8, 10]])"
            ]
          },
          "metadata": {},
          "execution_count": 81
        }
      ]
    },
    {
      "cell_type": "code",
      "source": [
        "for i in a:\n",
        "  print(i)"
      ],
      "metadata": {
        "colab": {
          "base_uri": "https://localhost:8080/"
        },
        "id": "bbpqxAI5urrk",
        "outputId": "604896e3-5e9c-4001-db32-393af3590dde"
      },
      "execution_count": null,
      "outputs": [
        {
          "output_type": "stream",
          "name": "stdout",
          "text": [
            "[0 2 4]\n",
            "[ 6  8 10]\n"
          ]
        }
      ]
    },
    {
      "cell_type": "code",
      "source": [
        "for i in np.nditer(a):\n",
        "  print(i)\n",
        "print()\n",
        "for i in np.nditer(a,order='F'):\n",
        "  print(i)\n",
        "print()\n",
        "for i in np.nditer(a,order='C'):\n",
        "  print(i)"
      ],
      "metadata": {
        "colab": {
          "base_uri": "https://localhost:8080/"
        },
        "id": "5XO3UyrGuvsc",
        "outputId": "c3cfc98e-a1c6-4167-ef2b-c6ca70369a8e"
      },
      "execution_count": null,
      "outputs": [
        {
          "output_type": "stream",
          "name": "stdout",
          "text": [
            "0\n",
            "2\n",
            "4\n",
            "6\n",
            "8\n",
            "10\n",
            "\n",
            "0\n",
            "6\n",
            "2\n",
            "8\n",
            "4\n",
            "10\n",
            "\n",
            "0\n",
            "2\n",
            "4\n",
            "6\n",
            "8\n",
            "10\n"
          ]
        }
      ]
    },
    {
      "cell_type": "markdown",
      "source": [
        "#joining arrays"
      ],
      "metadata": {
        "id": "snyiBMGivc-t"
      }
    },
    {
      "cell_type": "code",
      "source": [
        "a=np.array([[1,2,3],[4,5,6]])\n",
        "print(a)\n",
        "print('\\n')\n",
        "b=np.array([[2,3,4],[6,7,8]])\n",
        "print(b)\n",
        "print('\\n')\n",
        "print(np.concatenate((a,b)))\n",
        "print('\\n')\n",
        "print(np.concatenate((a,b),axis=1))"
      ],
      "metadata": {
        "colab": {
          "base_uri": "https://localhost:8080/"
        },
        "id": "EH7DqgOOvbUS",
        "outputId": "3829373f-3a30-489b-e34c-4e370ece86ca"
      },
      "execution_count": null,
      "outputs": [
        {
          "output_type": "stream",
          "name": "stdout",
          "text": [
            "[[1 2 3]\n",
            " [4 5 6]]\n",
            "\n",
            "\n",
            "[[2 3 4]\n",
            " [6 7 8]]\n",
            "\n",
            "\n",
            "[[1 2 3]\n",
            " [4 5 6]\n",
            " [2 3 4]\n",
            " [6 7 8]]\n",
            "\n",
            "\n",
            "[[1 2 3 2 3 4]\n",
            " [4 5 6 6 7 8]]\n"
          ]
        }
      ]
    },
    {
      "cell_type": "code",
      "source": [
        "a=np.arange(9)\n",
        "print(a)\n",
        "print(np.split(a,3))\n",
        "print()\n",
        "print(np.split(a,[3,7]))\n",
        "print(np.split(a,[2,5]))"
      ],
      "metadata": {
        "colab": {
          "base_uri": "https://localhost:8080/"
        },
        "id": "C0OWFFNcx5x_",
        "outputId": "42244d73-cfe2-4952-991e-10764bb4d8e6"
      },
      "execution_count": null,
      "outputs": [
        {
          "output_type": "stream",
          "name": "stdout",
          "text": [
            "[0 1 2 3 4 5 6 7 8]\n",
            "[array([0, 1, 2]), array([3, 4, 5]), array([6, 7, 8])]\n",
            "\n",
            "[array([0, 1, 2]), array([3, 4, 5, 6]), array([7, 8])]\n",
            "[array([0, 1]), array([2, 3, 4]), array([5, 6, 7, 8])]\n"
          ]
        }
      ]
    },
    {
      "cell_type": "code",
      "source": [
        "import numpy as np\n",
        "a=np.array([[1,2,3],[4,5,6]])\n",
        "print(a)\n",
        "print(a.shape)\n",
        "print('\\n')\n",
        "b=np.reshape(a,(3,2))\n",
        "print(b)\n",
        "print(b.shape)\n",
        "print('\\n')\n",
        "c=np.resize(a,(3,2))\n",
        "print(c)\n",
        "print(c.shape)\n"
      ],
      "metadata": {
        "colab": {
          "base_uri": "https://localhost:8080/"
        },
        "id": "Zd84MSNszMqS",
        "outputId": "d69506f3-1c36-4f11-c4fb-5cbcc2c66d0b"
      },
      "execution_count": null,
      "outputs": [
        {
          "output_type": "stream",
          "name": "stdout",
          "text": [
            "[[1 2 3]\n",
            " [4 5 6]]\n",
            "(2, 3)\n",
            "\n",
            "\n",
            "[[1 2]\n",
            " [3 4]\n",
            " [5 6]]\n",
            "(3, 2)\n",
            "\n",
            "\n",
            "[[1 2]\n",
            " [3 4]\n",
            " [5 6]]\n",
            "(3, 2)\n"
          ]
        }
      ]
    },
    {
      "cell_type": "code",
      "source": [
        "c=np.resize(a,(3,3))\n",
        "print(c)\n",
        "print(c.shape)\n",
        "#c=np.reshape(a,(3,3))\n",
        "#print(c)\n",
        "#print(c.shape)\n",
        "print('\\n')\n",
        "x=np.resize(a,(3,4))\n",
        "print(x)\n",
        "print(x.shape)"
      ],
      "metadata": {
        "colab": {
          "base_uri": "https://localhost:8080/"
        },
        "id": "JzfHsLF7z_KO",
        "outputId": "ccf210db-770f-427c-c223-b991048cd1f9"
      },
      "execution_count": null,
      "outputs": [
        {
          "output_type": "stream",
          "name": "stdout",
          "text": [
            "[[1 2 3]\n",
            " [4 5 6]\n",
            " [1 2 3]]\n",
            "(3, 3)\n",
            "\n",
            "\n",
            "[[1 2 3 4]\n",
            " [5 6 1 2]\n",
            " [3 4 5 6]]\n",
            "(3, 4)\n"
          ]
        }
      ]
    },
    {
      "cell_type": "markdown",
      "source": [
        "#Histogram"
      ],
      "metadata": {
        "id": "um0ZOCsbTQfn"
      }
    },
    {
      "cell_type": "code",
      "source": [
        "import matplotlib.pyplot as plt\n",
        "a=np.array([12,3,5,15,67,89,54,67,77,90,45,32,84,99])\n",
        "plt.hist(a,bins=[0,20,40,60,80,100])\n",
        "plt.title('histogram')\n",
        "plt.show()"
      ],
      "metadata": {
        "id": "YAFs_UZW0NHp",
        "colab": {
          "base_uri": "https://localhost:8080/",
          "height": 281
        },
        "outputId": "68c061bb-cc0c-460d-f4e9-a3dc64cce8ee"
      },
      "execution_count": null,
      "outputs": [
        {
          "output_type": "display_data",
          "data": {
            "text/plain": [
              "<Figure size 432x288 with 1 Axes>"
            ],
            "image/png": "[encoded data removed]"
          },
          "metadata": {
            "needs_background": "light"
          }
        }
      ]
    },
    {
      "cell_type": "code",
      "source": [
        "plt.hist(a,bins=[10,20,30,40,50,60,70,80,90,100])\n",
        "plt.title('histogram')\n",
        "plt.show()"
      ],
      "metadata": {
        "colab": {
          "base_uri": "https://localhost:8080/",
          "height": 281
        },
        "id": "mMGG03lSUib_",
        "outputId": "389fbf88-41c1-4f28-ad27-a2718ac78ed5"
      },
      "execution_count": null,
      "outputs": [
        {
          "output_type": "display_data",
          "data": {
            "text/plain": [
              "<Figure size 432x288 with 1 Axes>"
            ],
            "image/png": "[encoded data removed]"
          },
          "metadata": {
            "needs_background": "light"
          }
        }
      ]
    },
    {
      "cell_type": "code",
      "source": [
        "#linspace function\n",
        "a=np.linspace(1,10,6)\n",
        "print(a)"
      ],
      "metadata": {
        "colab": {
          "base_uri": "https://localhost:8080/"
        },
        "id": "k29LDcSMVc1P",
        "outputId": "27757098-a248-4cda-852a-dc325a6602ab"
      },
      "execution_count": null,
      "outputs": [
        {
          "output_type": "stream",
          "name": "stdout",
          "text": [
            "[ 1.   2.8  4.6  6.4  8.2 10. ]\n"
          ]
        }
      ]
    },
    {
      "cell_type": "code",
      "source": [
        "#sum and axis\n",
        "a=np.array([(1,2,3),(4,5,6)])\n",
        "print(a.sum(axis=0))\n",
        "print(a.sum(axis=1))"
      ],
      "metadata": {
        "colab": {
          "base_uri": "https://localhost:8080/"
        },
        "id": "ihduYQTkVmal",
        "outputId": "89c92556-d0a5-4d62-a177-fc3a57e490af"
      },
      "execution_count": null,
      "outputs": [
        {
          "output_type": "stream",
          "name": "stdout",
          "text": [
            "[5 7 9]\n",
            "[ 6 15]\n"
          ]
        }
      ]
    },
    {
      "cell_type": "code",
      "source": [
        "a=np.array([[1,2,3],[4,5,6]])\n",
        "print(a.sum(axis=0))\n",
        "print(a.sum(axis=1))"
      ],
      "metadata": {
        "colab": {
          "base_uri": "https://localhost:8080/"
        },
        "id": "xpp8FIV5WEfn",
        "outputId": "e8a4596e-97e3-42dd-81fd-a25e6639ac6c"
      },
      "execution_count": null,
      "outputs": [
        {
          "output_type": "stream",
          "name": "stdout",
          "text": [
            "[5 7 9]\n",
            "[ 6 15]\n"
          ]
        }
      ]
    },
    {
      "cell_type": "code",
      "source": [
        "a=np.array([[1,2,3],[4,5,6]])\n",
        "print(np.sqrt(a))\n",
        "print(np.std(a))"
      ],
      "metadata": {
        "colab": {
          "base_uri": "https://localhost:8080/"
        },
        "id": "imZ5ZwJmWN8k",
        "outputId": "714a194a-54ec-42db-9904-2214a5935d7a"
      },
      "execution_count": null,
      "outputs": [
        {
          "output_type": "stream",
          "name": "stdout",
          "text": [
            "[[1.         1.41421356 1.73205081]\n",
            " [2.         2.23606798 2.44948974]]\n",
            "1.707825127659933\n"
          ]
        }
      ]
    },
    {
      "cell_type": "code",
      "source": [
        "a=np.array([[1,2,3],[3,5,6]])\n",
        "print(a)\n",
        "print()\n",
        "print(a.flatten())\n",
        "print()\n",
        "print(a.ravel())"
      ],
      "metadata": {
        "colab": {
          "base_uri": "https://localhost:8080/"
        },
        "id": "VVIlXS1lWq10",
        "outputId": "3ee3adf3-11a8-460b-eb0f-10f427920043"
      },
      "execution_count": null,
      "outputs": [
        {
          "output_type": "stream",
          "name": "stdout",
          "text": [
            "[[1 2 3]\n",
            " [3 5 6]]\n",
            "\n",
            "[1 2 3 3 5 6]\n",
            "\n",
            "[1 2 3 3 5 6]\n"
          ]
        }
      ]
    },
    {
      "cell_type": "code",
      "source": [
        "a=np.array([[1,2,3],[3,5,6]])\n",
        "print(np.log10(a))\n",
        "print()\n",
        "print(np.log2(a))"
      ],
      "metadata": {
        "colab": {
          "base_uri": "https://localhost:8080/"
        },
        "id": "DGHUPZJvXYk6",
        "outputId": "12ad28fc-c346-45ba-fa09-54dd48f5d1a2"
      },
      "execution_count": null,
      "outputs": [
        {
          "output_type": "stream",
          "name": "stdout",
          "text": [
            "[[0.         0.30103    0.47712125]\n",
            " [0.47712125 0.69897    0.77815125]]\n",
            "\n",
            "[[0.         1.         1.5849625 ]\n",
            " [1.5849625  2.32192809 2.5849625 ]]\n"
          ]
        }
      ]
    },
    {
      "cell_type": "code",
      "source": [
        "#using numpy and matplotlib plot sin graph\n",
        "import numpy as np\n",
        "import matplotlib.pyplot as plt\n",
        "a=np.arange(0,3*np.pi,0.1)\n",
        "b=np.sin(a)\n",
        "print(a)\n",
        "print(b)"
      ],
      "metadata": {
        "colab": {
          "base_uri": "https://localhost:8080/"
        },
        "id": "CRAGeQSeYEHd",
        "outputId": "d7f3c9a0-8c97-4ae0-fb31-cc7adadb43f3"
      },
      "execution_count": null,
      "outputs": [
        {
          "output_type": "stream",
          "name": "stdout",
          "text": [
            "[0.  0.1 0.2 0.3 0.4 0.5 0.6 0.7 0.8 0.9 1.  1.1 1.2 1.3 1.4 1.5 1.6 1.7\n",
            " 1.8 1.9 2.  2.1 2.2 2.3 2.4 2.5 2.6 2.7 2.8 2.9 3.  3.1 3.2 3.3 3.4 3.5\n",
            " 3.6 3.7 3.8 3.9 4.  4.1 4.2 4.3 4.4 4.5 4.6 4.7 4.8 4.9 5.  5.1 5.2 5.3\n",
            " 5.4 5.5 5.6 5.7 5.8 5.9 6.  6.1 6.2 6.3 6.4 6.5 6.6 6.7 6.8 6.9 7.  7.1\n",
            " 7.2 7.3 7.4 7.5 7.6 7.7 7.8 7.9 8.  8.1 8.2 8.3 8.4 8.5 8.6 8.7 8.8 8.9\n",
            " 9.  9.1 9.2 9.3 9.4]\n",
            "[ 0.          0.09983342  0.19866933  0.29552021  0.38941834  0.47942554\n",
            "  0.56464247  0.64421769  0.71735609  0.78332691  0.84147098  0.89120736\n",
            "  0.93203909  0.96355819  0.98544973  0.99749499  0.9995736   0.99166481\n",
            "  0.97384763  0.94630009  0.90929743  0.86320937  0.8084964   0.74570521\n",
            "  0.67546318  0.59847214  0.51550137  0.42737988  0.33498815  0.23924933\n",
            "  0.14112001  0.04158066 -0.05837414 -0.15774569 -0.2555411  -0.35078323\n",
            " -0.44252044 -0.52983614 -0.61185789 -0.68776616 -0.7568025  -0.81827711\n",
            " -0.87157577 -0.91616594 -0.95160207 -0.97753012 -0.993691   -0.99992326\n",
            " -0.99616461 -0.98245261 -0.95892427 -0.92581468 -0.88345466 -0.83226744\n",
            " -0.77276449 -0.70554033 -0.63126664 -0.55068554 -0.46460218 -0.37387666\n",
            " -0.2794155  -0.1821625  -0.0830894   0.0168139   0.1165492   0.21511999\n",
            "  0.31154136  0.40484992  0.49411335  0.57843976  0.6569866   0.72896904\n",
            "  0.79366786  0.85043662  0.8987081   0.93799998  0.96791967  0.98816823\n",
            "  0.99854335  0.99894134  0.98935825  0.96988981  0.94073056  0.90217183\n",
            "  0.85459891  0.79848711  0.7343971   0.66296923  0.58491719  0.50102086\n",
            "  0.41211849  0.31909836  0.22288991  0.12445442  0.02477543]\n"
          ]
        }
      ]
    },
    {
      "cell_type": "code",
      "source": [
        "plt.plot(a,b)\n",
        "plt.show()"
      ],
      "metadata": {
        "colab": {
          "base_uri": "https://localhost:8080/",
          "height": 265
        },
        "id": "UnIvzse4Ykk5",
        "outputId": "bc4eae7c-1f3e-4017-9827-e1b2d894da48"
      },
      "execution_count": null,
      "outputs": [
        {
          "output_type": "display_data",
          "data": {
            "text/plain": [
              "<Figure size 432x288 with 1 Axes>"
            ],
            "image/png": "[encoded data removed]"
          },
          "metadata": {
            "needs_background": "light"
          }
        }
      ]
    },
    {
      "cell_type": "code",
      "source": [
        "#create a 6*6 two-dimensinal array and let 1 and 0 be placed alternatively across the diagonals\n",
        "x=np.zeros((6,6),dtype=int)\n",
        "x[::2,1::2]=1\n",
        "x[1::2,::2]=1\n",
        "x"
      ],
      "metadata": {
        "colab": {
          "base_uri": "https://localhost:8080/"
        },
        "id": "bnZ_P0PYYvCH",
        "outputId": "70c31c97-c0d5-4623-d978-2d4325a8aa0f"
      },
      "execution_count": null,
      "outputs": [
        {
          "output_type": "execute_result",
          "data": {
            "text/plain": [
              "array([[0, 1, 0, 1, 0, 1],\n",
              "       [1, 0, 1, 0, 1, 0],\n",
              "       [0, 1, 0, 1, 0, 1],\n",
              "       [1, 0, 1, 0, 1, 0],\n",
              "       [0, 1, 0, 1, 0, 1],\n",
              "       [1, 0, 1, 0, 1, 0]])"
            ]
          },
          "metadata": {},
          "execution_count": 17
        }
      ]
    },
    {
      "cell_type": "code",
      "source": [
        "x=np.zeros((6,6),dtype=int)\n",
        "x[0::2,0::2]=1\n",
        "x[1::2,1::2]=1\n",
        "x"
      ],
      "metadata": {
        "colab": {
          "base_uri": "https://localhost:8080/"
        },
        "id": "OBw1MMjRhLZo",
        "outputId": "7010c615-5f31-4635-fb44-f43aadce06c2"
      },
      "execution_count": 132,
      "outputs": [
        {
          "output_type": "execute_result",
          "data": {
            "text/plain": [
              "array([[1, 0, 1, 0, 1, 0],\n",
              "       [0, 1, 0, 1, 0, 1],\n",
              "       [1, 0, 1, 0, 1, 0],\n",
              "       [0, 1, 0, 1, 0, 1],\n",
              "       [1, 0, 1, 0, 1, 0],\n",
              "       [0, 1, 0, 1, 0, 1]])"
            ]
          },
          "metadata": {},
          "execution_count": 132
        }
      ]
    },
    {
      "cell_type": "code",
      "source": [
        "#upper traingle\n",
        "a=np.zeros((6,6))\n",
        "a[0::,:]=1\n",
        "a[1:,:1]=0\n",
        "a[2:,:2]=0\n",
        "a[3:,:3]=0\n",
        "a[4:,:4]=0\n",
        "a[5:,:5]=0\n",
        "a"
      ],
      "metadata": {
        "colab": {
          "base_uri": "https://localhost:8080/"
        },
        "id": "am-0mVMhhzX1",
        "outputId": "ac608ab2-4038-476e-e86b-d0a28576a070"
      },
      "execution_count": 147,
      "outputs": [
        {
          "output_type": "execute_result",
          "data": {
            "text/plain": [
              "array([[1., 1., 1., 1., 1., 1.],\n",
              "       [0., 1., 1., 1., 1., 1.],\n",
              "       [0., 0., 1., 1., 1., 1.],\n",
              "       [0., 0., 0., 1., 1., 1.],\n",
              "       [0., 0., 0., 0., 1., 1.],\n",
              "       [0., 0., 0., 0., 0., 1.]])"
            ]
          },
          "metadata": {},
          "execution_count": 147
        }
      ]
    },
    {
      "cell_type": "code",
      "source": [
        "import numpy as np\n",
        "a=np.ones((3,3),dtype=int)\n",
        "a[::2,::2]=0\n",
        "a[1::2,1::2]=0\n",
        "a"
      ],
      "metadata": {
        "colab": {
          "base_uri": "https://localhost:8080/"
        },
        "id": "HVGnNk7waulw",
        "outputId": "c0541560-9d47-4787-e304-2b998689942a"
      },
      "execution_count": null,
      "outputs": [
        {
          "output_type": "execute_result",
          "data": {
            "text/plain": [
              "array([[0, 1, 0],\n",
              "       [1, 0, 1],\n",
              "       [0, 1, 0]])"
            ]
          },
          "metadata": {},
          "execution_count": 40
        }
      ]
    },
    {
      "cell_type": "code",
      "source": [
        "a=np.ones((4,4),dtype=int)\n",
        "\n",
        "a[1::,::2]=0\n",
        "a"
      ],
      "metadata": {
        "colab": {
          "base_uri": "https://localhost:8080/"
        },
        "id": "iqN_OBc0z5vT",
        "outputId": "e2fe32ef-4653-45c6-fe17-b5532f0c5885"
      },
      "execution_count": null,
      "outputs": [
        {
          "output_type": "execute_result",
          "data": {
            "text/plain": [
              "array([[1, 1, 1, 1],\n",
              "       [0, 1, 0, 1],\n",
              "       [0, 1, 0, 1],\n",
              "       [0, 1, 0, 1]])"
            ]
          },
          "metadata": {},
          "execution_count": 48
        }
      ]
    },
    {
      "cell_type": "code",
      "source": [
        "x=np.random.rand(10,10)\n",
        "print(x)\n",
        "x[np.random.randint(10,size=5),np.random.randint(10,size=5)]=np.nan\n",
        "print(x)\n",
        "print('missing valyues : ',np.isnan(x).sum())"
      ],
      "metadata": {
        "colab": {
          "base_uri": "https://localhost:8080/"
        },
        "id": "aQMrG5N7cu5O",
        "outputId": "41dadf33-bcba-49ef-a1c0-c2d5904bec92"
      },
      "execution_count": null,
      "outputs": [
        {
          "output_type": "stream",
          "name": "stdout",
          "text": [
            "[[0.7441892  0.17659734 0.65723589 0.90858899 0.84839997 0.438006\n",
            "  0.55179704 0.606343   0.57447722 0.51366688]\n",
            " [0.89068536 0.4988043  0.8864063  0.01923245 0.24142716 0.38150645\n",
            "  0.10828716 0.00898941 0.01671269 0.36125257]\n",
            " [0.71064861 0.39125588 0.20239034 0.90953411 0.97182664 0.06009772\n",
            "  0.61486782 0.72974321 0.17047279 0.01123876]\n",
            " [0.25770422 0.95265855 0.06466033 0.59435744 0.52829006 0.90102945\n",
            "  0.31425712 0.36574227 0.02304494 0.50531272]\n",
            " [0.32386271 0.01588888 0.36909192 0.95236353 0.50771833 0.95102521\n",
            "  0.29284294 0.81404567 0.54800981 0.20222897]\n",
            " [0.29400468 0.10837016 0.03613614 0.33470102 0.8749829  0.39625201\n",
            "  0.08103069 0.42114883 0.71525096 0.31482121]\n",
            " [0.77383276 0.5088885  0.23622873 0.53650515 0.9521414  0.46292181\n",
            "  0.60094684 0.50334825 0.53229252 0.20410651]\n",
            " [0.57852238 0.55706072 0.91153677 0.37936592 0.47387888 0.68796831\n",
            "  0.29715575 0.11734719 0.06411403 0.07895708]\n",
            " [0.78844475 0.09510537 0.21171327 0.32897117 0.44349938 0.19380831\n",
            "  0.68608458 0.94372254 0.84322491 0.87604416]\n",
            " [0.44184383 0.93453898 0.49329002 0.10638715 0.60301588 0.5689787\n",
            "  0.7838403  0.40351291 0.40933798 0.03185   ]]\n",
            "[[0.7441892  0.17659734 0.65723589 0.90858899        nan 0.438006\n",
            "  0.55179704 0.606343          nan 0.51366688]\n",
            " [0.89068536 0.4988043  0.8864063  0.01923245 0.24142716 0.38150645\n",
            "  0.10828716 0.00898941 0.01671269 0.36125257]\n",
            " [0.71064861 0.39125588 0.20239034 0.90953411 0.97182664 0.06009772\n",
            "  0.61486782 0.72974321 0.17047279 0.01123876]\n",
            " [0.25770422 0.95265855 0.06466033 0.59435744 0.52829006 0.90102945\n",
            "  0.31425712 0.36574227 0.02304494 0.50531272]\n",
            " [0.32386271 0.01588888 0.36909192 0.95236353 0.50771833 0.95102521\n",
            "  0.29284294 0.81404567 0.54800981 0.20222897]\n",
            " [0.29400468 0.10837016 0.03613614 0.33470102 0.8749829  0.39625201\n",
            "  0.08103069 0.42114883 0.71525096 0.31482121]\n",
            " [0.77383276 0.5088885  0.23622873 0.53650515 0.9521414  0.46292181\n",
            "  0.60094684 0.50334825 0.53229252 0.20410651]\n",
            " [0.57852238 0.55706072 0.91153677 0.37936592 0.47387888        nan\n",
            "  0.29715575 0.11734719        nan 0.07895708]\n",
            " [0.78844475        nan 0.21171327 0.32897117 0.44349938 0.19380831\n",
            "  0.68608458 0.94372254 0.84322491 0.87604416]\n",
            " [0.44184383 0.93453898 0.49329002 0.10638715 0.60301588 0.5689787\n",
            "  0.7838403  0.40351291 0.40933798 0.03185   ]]\n",
            "missing valyues :  5\n"
          ]
        }
      ]
    },
    {
      "cell_type": "code",
      "source": [
        "print('indexes of missing values : \\n',np.argwhere(np.isnan(x)))\n",
        "inds=np.where(np.isnan(x))\n",
        "print(inds)\n",
        "x[inds]=0\n",
        "x"
      ],
      "metadata": {
        "colab": {
          "base_uri": "https://localhost:8080/"
        },
        "id": "EQVIOnmWd2fp",
        "outputId": "6a28c5c5-4a4b-40ef-e361-8c307cd3dc43"
      },
      "execution_count": null,
      "outputs": [
        {
          "output_type": "stream",
          "name": "stdout",
          "text": [
            "indexes of missing values : \n",
            " [[0 4]\n",
            " [0 8]\n",
            " [7 5]\n",
            " [7 8]\n",
            " [8 1]]\n",
            "(array([0, 0, 7, 7, 8]), array([4, 8, 5, 8, 1]))\n"
          ]
        },
        {
          "output_type": "execute_result",
          "data": {
            "text/plain": [
              "array([[0.7441892 , 0.17659734, 0.65723589, 0.90858899, 0.        ,\n",
              "        0.438006  , 0.55179704, 0.606343  , 0.        , 0.51366688],\n",
              "       [0.89068536, 0.4988043 , 0.8864063 , 0.01923245, 0.24142716,\n",
              "        0.38150645, 0.10828716, 0.00898941, 0.01671269, 0.36125257],\n",
              "       [0.71064861, 0.39125588, 0.20239034, 0.90953411, 0.97182664,\n",
              "        0.06009772, 0.61486782, 0.72974321, 0.17047279, 0.01123876],\n",
              "       [0.25770422, 0.95265855, 0.06466033, 0.59435744, 0.52829006,\n",
              "        0.90102945, 0.31425712, 0.36574227, 0.02304494, 0.50531272],\n",
              "       [0.32386271, 0.01588888, 0.36909192, 0.95236353, 0.50771833,\n",
              "        0.95102521, 0.29284294, 0.81404567, 0.54800981, 0.20222897],\n",
              "       [0.29400468, 0.10837016, 0.03613614, 0.33470102, 0.8749829 ,\n",
              "        0.39625201, 0.08103069, 0.42114883, 0.71525096, 0.31482121],\n",
              "       [0.77383276, 0.5088885 , 0.23622873, 0.53650515, 0.9521414 ,\n",
              "        0.46292181, 0.60094684, 0.50334825, 0.53229252, 0.20410651],\n",
              "       [0.57852238, 0.55706072, 0.91153677, 0.37936592, 0.47387888,\n",
              "        0.        , 0.29715575, 0.11734719, 0.        , 0.07895708],\n",
              "       [0.78844475, 0.        , 0.21171327, 0.32897117, 0.44349938,\n",
              "        0.19380831, 0.68608458, 0.94372254, 0.84322491, 0.87604416],\n",
              "       [0.44184383, 0.93453898, 0.49329002, 0.10638715, 0.60301588,\n",
              "        0.5689787 , 0.7838403 , 0.40351291, 0.40933798, 0.03185   ]])"
            ]
          },
          "metadata": {},
          "execution_count": 55
        }
      ]
    },
    {
      "cell_type": "code",
      "source": [],
      "metadata": {
        "id": "FZ2D8XmiwNRX"
      },
      "execution_count": null,
      "outputs": []
    },
    {
      "cell_type": "code",
      "source": [],
      "metadata": {
        "id": "J9tmpxEQwNYI"
      },
      "execution_count": null,
      "outputs": []
    }
  ]
}